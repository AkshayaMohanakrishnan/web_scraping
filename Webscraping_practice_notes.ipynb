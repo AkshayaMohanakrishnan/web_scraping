{
  "nbformat": 4,
  "nbformat_minor": 0,
  "metadata": {
    "colab": {
      "provenance": [],
      "authorship_tag": "ABX9TyMvTn+f7nv/aKhaY6/oHE0H",
      "include_colab_link": true
    },
    "kernelspec": {
      "name": "python3",
      "display_name": "Python 3"
    },
    "language_info": {
      "name": "python"
    }
  },
  "cells": [
    {
      "cell_type": "markdown",
      "metadata": {
        "id": "view-in-github",
        "colab_type": "text"
      },
      "source": [
        "<a href=\"https://colab.research.google.com/github/AkshayaMohanakrishnan/web_scraping/blob/main/Webscraping_practice_notes.ipynb\" target=\"_parent\"><img src=\"https://colab.research.google.com/assets/colab-badge.svg\" alt=\"Open In Colab\"/></a>"
      ]
    },
    {
      "cell_type": "markdown",
      "source": [
        "request library"
      ],
      "metadata": {
        "id": "htacID3Wbfh1"
      }
    },
    {
      "cell_type": "code",
      "source": [
        "import requests\n",
        "url = \"https://www.amazon.in/mobile-phones/b/?ie=UTF8&node=1389401031&ref_=nav_cs_mobiles\"\n",
        "r = requests.get(url)\n",
        "print(r.status_code)"
      ],
      "metadata": {
        "colab": {
          "base_uri": "https://localhost:8080/"
        },
        "id": "CZSC0o_Mbi9O",
        "outputId": "192b1c36-7b7b-47b3-b634-b2271f19db33"
      },
      "execution_count": 1,
      "outputs": [
        {
          "output_type": "stream",
          "name": "stdout",
          "text": [
            "200\n"
          ]
        }
      ]
    },
    {
      "cell_type": "markdown",
      "source": [
        "Informational responses (100 – 199)\n",
        "Successful responses (200 – 299)\n",
        "Redirection messages (300 – 399)\n",
        "Client error responses (400 – 499)\n",
        "Server error responses (500 – 599)\n",
        "\n",
        "\n",
        "\n",
        "\n",
        "\n",
        "\n"
      ],
      "metadata": {
        "id": "SjOMRqOVb6eL"
      }
    },
    {
      "cell_type": "code",
      "source": [
        "import requests\n",
        "url = \"https://www.amazon.in/mobile-phones/b/?ie=UTF8&node=1389401031&ref_=nav_cs_mobiles\"\n",
        "r = requests.get(url)\n",
        "print(r.text)"
      ],
      "metadata": {
        "id": "d3vV0AYwcC8y"
      },
      "execution_count": null,
      "outputs": []
    },
    {
      "cell_type": "markdown",
      "source": [
        "**Obtain HTML using Beautifulsoup**"
      ],
      "metadata": {
        "id": "FvqlUhS5clv0"
      }
    },
    {
      "cell_type": "markdown",
      "source": [
        "with the help of beautiful soup we get a structured data in the format of a string and we can extract the data by using different tags"
      ],
      "metadata": {
        "id": "X8wwbiO5eHkw"
      }
    },
    {
      "cell_type": "code",
      "source": [
        "import requests\n",
        "from bs4 import BeautifulSoup\n",
        "url = \"https://www.amazon.in/mobile-phones/b/?ie=UTF8&node=1389401031&ref_=nav_\"\n",
        "soup = BeautifulSoup(r.text,\"lxml\") #here  we will be dealing with HTML files so we use lxml\n",
        "print(soup)"
      ],
      "metadata": {
        "id": "MLdYryFvcxH5"
      },
      "execution_count": null,
      "outputs": []
    },
    {
      "cell_type": "markdown",
      "source": [
        "**Tags in HTML**"
      ],
      "metadata": {
        "id": "9Oixuk6zfWd1"
      }
    },
    {
      "cell_type": "markdown",
      "source": [
        "Tags are the one which is highlighted in purple colour"
      ],
      "metadata": {
        "id": "jibZZ2FOhMDD"
      }
    },
    {
      "cell_type": "code",
      "source": [
        "import requests\n",
        "from bs4 import BeautifulSoup\n",
        "url =\"https://webscraper.io/test-sites/e-commerce/allinone\"\n",
        "soup = BeautifulSoup(r.text,'lxml')\n",
        "print(soup.div)\n"
      ],
      "metadata": {
        "id": "R2MFiwlrgF3N"
      },
      "execution_count": null,
      "outputs": []
    },
    {
      "cell_type": "code",
      "source": [
        "import requests\n",
        "from bs4 import BeautifulSoup\n",
        "url =\"https://webscraper.io/test-sites/e-commerce/allinone\"\n",
        "soup = BeautifulSoup(r.text,'lxml')\n",
        "print(soup.div.ul)#will give the tag start with ul"
      ],
      "metadata": {
        "id": "zvaDosrgY01n"
      },
      "execution_count": null,
      "outputs": []
    },
    {
      "cell_type": "markdown",
      "source": [
        "**Attributes in HTML**"
      ],
      "metadata": {
        "id": "qyXPX78VhEmL"
      }
    },
    {
      "cell_type": "markdown",
      "source": [
        "Attributes are in orange colour"
      ],
      "metadata": {
        "id": "eOx2vhCIcOHz"
      }
    },
    {
      "cell_type": "code",
      "source": [
        "import requests\n",
        "from bs4 import BeautifulSoup\n",
        "url =\"https://webscraper.io/test-sites/e-commerce/allinone\"\n",
        "\n",
        "soup = BeautifulSoup(r.text,'lxml')\n",
        "tag = soup.header\n",
        "print(tag.attrs)"
      ],
      "metadata": {
        "id": "A-wpwiA_g5yg"
      },
      "execution_count": null,
      "outputs": []
    },
    {
      "cell_type": "code",
      "source": [
        "atb =(tag.attrs)\n",
        "print(atb[\"class\"])"
      ],
      "metadata": {
        "id": "y4TOJ4k_bSmA"
      },
      "execution_count": null,
      "outputs": []
    },
    {
      "cell_type": "markdown",
      "source": [
        "**Navigable String in HTML**"
      ],
      "metadata": {
        "id": "qr4thyFMbzZ9"
      }
    },
    {
      "cell_type": "markdown",
      "source": [
        "Navigable string are the one in black colour"
      ],
      "metadata": {
        "id": "B-Jfj7VpcUM0"
      }
    },
    {
      "cell_type": "code",
      "source": [
        "tag =soup.div.p.string\n",
        "print(tag)"
      ],
      "metadata": {
        "id": "KqJlGPB_bPAY"
      },
      "execution_count": null,
      "outputs": []
    },
    {
      "cell_type": "code",
      "source": [
        "tag = soup.header.div.a.button.span\n",
        "print(tag.string)"
      ],
      "metadata": {
        "id": "QOOwIIYjewYT"
      },
      "execution_count": null,
      "outputs": []
    },
    {
      "cell_type": "markdown",
      "source": [
        "**BeautifulSoup find() function**"
      ],
      "metadata": {
        "id": "tR6mLokMgINR"
      }
    },
    {
      "cell_type": "code",
      "source": [
        "import requests\n",
        "from bs4 import BeautifulSoup\n",
        "url = \"https://webscraper.io/test-sites/e-commerce/allinone/computers/tablets\"\n",
        "r = requests.get(url)\n",
        "soup = BeautifulSoup(r.text,'lxml')\n",
        "print(soup.find(\"h4\",{\"class\":\"pull-right price\"}))"
      ],
      "metadata": {
        "id": "DIm5KqHCgCM4"
      },
      "execution_count": null,
      "outputs": []
    },
    {
      "cell_type": "code",
      "source": [
        "import requests\n",
        "from bs4 import BeautifulSoup\n",
        "url = \"https://webscraper.io/test-sites/e-commerce/allinone/computers/tablets\"\n",
        "r = requests.get(url)\n",
        "soup = BeautifulSoup(r.text,'lxml')\n",
        "price=(soup.find(\"h4\",{\"class\":\"pull-right price\"}))\n",
        "print(price.string)"
      ],
      "metadata": {
        "id": "EKzB1Az64IMf"
      },
      "execution_count": null,
      "outputs": []
    },
    {
      "cell_type": "code",
      "source": [
        "import requests\n",
        "from bs4 import BeautifulSoup\n",
        "url =\"https://webscraper.io/test-sites/e-commerce/allinone/computers/tablets\"\n",
        "r = requests.get(url)\n",
        "soup = BeautifulSoup(r.text,'lxml')\n",
        "desc = (soup.find(\"p\",{'class':'description'}))\n",
        "print(desc.string)"
      ],
      "metadata": {
        "id": "0JAGwEdf4RQY"
      },
      "execution_count": null,
      "outputs": []
    },
    {
      "cell_type": "code",
      "source": [
        "import requests\n",
        "from bs4 import BeautifulSoup\n",
        "url =\"https://webscraper.io/test-sites/e-commerce/allinone/computers/tablets\"\n",
        "r = requests.get(url)\n",
        "soup = BeautifulSoup(r.text,'lxml')\n",
        "desc = (soup.find(\"p\",class_ = \"description\"))\n",
        "print(desc.string)"
      ],
      "metadata": {
        "id": "rDQSlJFZ5eZy"
      },
      "execution_count": null,
      "outputs": []
    },
    {
      "cell_type": "markdown",
      "source": [
        "By using the find function we can only scrap the value of first product to scrap other products we have to use the function findall()"
      ],
      "metadata": {
        "id": "2KPF7hwL6rXz"
      }
    },
    {
      "cell_type": "markdown",
      "source": [
        "**BeautifulSoup - findall() with Tags and attributes**"
      ],
      "metadata": {
        "id": "EBYxnD4I6_fZ"
      }
    },
    {
      "cell_type": "code",
      "source": [
        "import requests\n",
        "from bs4 import BeautifulSoup\n",
        "url = \"https://webscraper.io/test-sites/e-commerce/allinone/computers/tablets\"\n",
        "r = requests.get(url)\n",
        "soup = BeautifulSoup(r.text,'lxml')\n",
        "price=(soup.find_all(\"h4\",{\"class\":\"pull-right price\"}))\n",
        "print(price)"
      ],
      "metadata": {
        "id": "1-Niaaa66anc"
      },
      "execution_count": null,
      "outputs": []
    },
    {
      "cell_type": "code",
      "source": [
        "import requests\n",
        "from bs4 import BeautifulSoup\n",
        "url = \"https://webscraper.io/test-sites/e-commerce/allinone/computers/tablets\"\n",
        "r = requests.get(url)\n",
        "soup = BeautifulSoup(r.text,'lxml')\n",
        "price=(soup.find_all(\"h4\",{\"class\":\"pull-right price\"}))\n",
        "print(len(price))#to get the total product"
      ],
      "metadata": {
        "id": "H1dphujcKwoM"
      },
      "execution_count": null,
      "outputs": []
    },
    {
      "cell_type": "code",
      "source": [
        "import requests\n",
        "from bs4 import BeautifulSoup\n",
        "url = \"https://webscraper.io/test-sites/e-commerce/allinone/computers/tablets\"\n",
        "r = requests.get(url)\n",
        "soup = BeautifulSoup(r.text,'lxml')\n",
        "price=(soup.find_all(\"h4\",{\"class\":\"pull-right price\"}))\n",
        "for i in price:# to get the price of all the products\n",
        "  print(i.text)"
      ],
      "metadata": {
        "id": "nz_oZboVK44B"
      },
      "execution_count": null,
      "outputs": []
    },
    {
      "cell_type": "code",
      "source": [
        "import requests\n",
        "from bs4 import BeautifulSoup\n",
        "url = \"https://webscraper.io/test-sites/e-commerce/allinone/computers/tablets\"\n",
        "r = requests.get(url)\n",
        "soup = BeautifulSoup(r.text,'lxml')\n",
        "price=(soup.find_all(\"h4\",{\"class\":\"pull-right price\"}))\n",
        "print(price[3])#to get the price of specific product"
      ],
      "metadata": {
        "id": "jWrNCipxL2vO"
      },
      "execution_count": null,
      "outputs": []
    },
    {
      "cell_type": "markdown",
      "source": [
        "**BeautifulSoup-findall() with RegEx**"
      ],
      "metadata": {
        "id": "4L32Q7gWMVKu"
      }
    },
    {
      "cell_type": "markdown",
      "source": [
        "To search a keyword from the website"
      ],
      "metadata": {
        "id": "AtHtJKSsNJGD"
      }
    },
    {
      "cell_type": "code",
      "source": [
        "import requests\n",
        "from bs4 import BeautifulSoup\n",
        "url = \"https://webscraper.io/test-sites/e-commerce/allinone/computers/tablets\"\n",
        "r= requests.get(url)\n",
        "soup = BeautifulSoup(r.text,'lxml')\n",
        "data = soup.find_all([\"h4\",\"a\",\"p\"])\n",
        "print(data)"
      ],
      "metadata": {
        "id": "oO_khuxXMJvh"
      },
      "execution_count": null,
      "outputs": []
    },
    {
      "cell_type": "code",
      "source": [
        "import requests\n",
        "from bs4 import BeautifulSoup\n",
        "url = \"https://webscraper.io/test-sites/e-commerce/allinone/computers/tablets\"\n",
        "r= requests.get(url)\n",
        "soup = BeautifulSoup(r.text,'lxml')\n",
        "data = soup.find_all(string = \"Galaxy Tab\")# exact word\n",
        "print(data)# keyword to find"
      ],
      "metadata": {
        "id": "5XnoEF57Oleg"
      },
      "execution_count": null,
      "outputs": []
    },
    {
      "cell_type": "code",
      "source": [
        "import requests\n",
        "from bs4 import BeautifulSoup\n",
        "import re\n",
        "url = \"https://webscraper.io/test-sites/e-commerce/allinone/computers/tablets\"\n",
        "r= requests.get(url)\n",
        "soup = BeautifulSoup(r.text,'lxml')\n",
        "data = soup.find_all(string = re.compile(\"Galaxy\"))#keyword\n",
        "print(data)# to get all the value with particular keyword"
      ],
      "metadata": {
        "id": "A6OlTVZXO5Yp"
      },
      "execution_count": null,
      "outputs": []
    },
    {
      "cell_type": "markdown",
      "source": [
        "**BeautifulSoup-findall() with pandas**"
      ],
      "metadata": {
        "id": "EO4t1zOzQOcJ"
      }
    },
    {
      "cell_type": "markdown",
      "source": [
        "with the help of pandas we will be creating a data frame here and that data frame you can store that data frame inside a CSV file or an Excel sheet as well"
      ],
      "metadata": {
        "id": "B8CsFXzIQioE"
      }
    },
    {
      "cell_type": "code",
      "source": [
        "import requests\n",
        "import pandas as pd\n",
        "from bs4 import BeautifulSoup\n",
        "url =\"https://webscraper.io/test-sites/e-commerce/allinone/computers/tablets\"\n",
        "r=requests.get(url)\n",
        "soup = BeautifulSoup(r.text,'lxml')\n",
        "names = soup.find_all(\"a\",class_ = \"title\")\n",
        "print(names)\n",
        "product_name = []\n",
        "for i in names:\n",
        "  name = i.text\n",
        "  product_name.append(name)\n",
        "print(product_name)\n",
        "prices = soup.find_all(\"h4\",class_=\"pull-right price\")\n",
        "prices_list = []\n",
        "for i in prices:\n",
        "  price = i.text\n",
        "  prices_list.append(price)\n",
        "print(prices_list)\n",
        "desc = soup.find_all(\"p\",class_=\"description\")\n",
        "desc_list = []\n",
        "for i in desc:\n",
        "  des = i.text\n",
        "  desc_list.append(des)\n",
        "print(desc_list)\n",
        "reviews = soup.find_all(\"p\",class_=\"pull-right\")\n",
        "reviews_list = []\n",
        "for i in reviews:\n",
        "  rew = i.text\n",
        "  reviews_list.append(rew)\n",
        "print(reviews_list)\n",
        "df=pd.DataFrame({\"Product Name\":product_name,\"Prices\":prices_list,\"Desciption\":desc_list,\"number of reviews\":reviews_list})\n",
        "print(df)\n",
        "df.to_csv(\"products_details.csv\")"
      ],
      "metadata": {
        "id": "BeLJep_6P1o0"
      },
      "execution_count": null,
      "outputs": []
    },
    {
      "cell_type": "markdown",
      "source": [
        "**Extract data from Nested HTML Tags**"
      ],
      "metadata": {
        "id": "7k_r4Dajg6Xw"
      }
    },
    {
      "cell_type": "code",
      "source": [
        "import requests\n",
        "from bs4 import BeautifulSoup\n",
        "url = \"https://webscraper.io/test-sites/e-commerce/allinone/computers/tablets\"\n",
        "r= requests.get(url)\n",
        "soup = BeautifulSoup(r.text,\"lxml\")\n",
        "boxes = soup.find_all(\"div\",class_=\"col-sm-4 col-lg-4 col-md-4\")# to get the details of all the boxes\n",
        "print(boxes)"
      ],
      "metadata": {
        "id": "3F-RZnhFLYaf"
      },
      "execution_count": null,
      "outputs": []
    },
    {
      "cell_type": "code",
      "source": [
        "import requests\n",
        "from bs4 import BeautifulSoup\n",
        "url = \"https://webscraper.io/test-sites/e-commerce/allinone/computers/tablets\"\n",
        "r= requests.get(url)\n",
        "soup = BeautifulSoup(r.text,\"lxml\")\n",
        "box = soup.find_all(\"div\",class_=\"col-sm-4 col-lg-4 col-md-4\")[3]# to get only the detail of 3rd box\n",
        "print(box)\n",
        "name = box.find(\"a\").text# to get the only the name of 3rd box\n",
        "print(name)\n",
        "desc = box.find(\"p\",class_=\"description\").text# to get only the description of the 3rd box\n",
        "print(desc)"
      ],
      "metadata": {
        "id": "U30Wg7Tol-3P"
      },
      "execution_count": null,
      "outputs": []
    },
    {
      "cell_type": "code",
      "source": [
        "import requests\n",
        "from bs4 import BeautifulSoup\n",
        "url = \"https://webscraper.io/test-sites/e-commerce/allinone/computers\"\n",
        "r= requests.get(url)\n",
        "soup = BeautifulSoup(r.text,\"lxml\")\n",
        "box = soup.find_all(\"div\",class_=\"col-sm-4 col-lg-4 col-md-4\")[3]# to get only the detail of 3rd box\n",
        "print(box)\n",
        "name = box.find(\"a\").text# to get the only the name of 3rd box\n",
        "print(name)\n",
        "desc = box.find(\"p\",class_=\"description\").text# to get only the description of the 3rd box\n",
        "print(desc)"
      ],
      "metadata": {
        "id": "JTwJaiGImhRL"
      },
      "execution_count": null,
      "outputs": []
    },
    {
      "cell_type": "code",
      "source": [
        "import requests\n",
        "from bs4 import BeautifulSoup\n",
        "url = \"https://webscraper.io/test-sites/e-commerce/allinone/computers\"\n",
        "r= requests.get(url)\n",
        "soup = BeautifulSoup(r.text,\"lxml\")\n",
        "navbar = soup.find_all(\"ul\",class_ = \"nav\",id = \"side-menu\")[0]\n",
        "name = (soup.find(\"li\",class_ = \"active\"))\n",
        "print(name.text)"
      ],
      "metadata": {
        "id": "JLyWZ5sz2T50"
      },
      "execution_count": null,
      "outputs": []
    }
  ]
}