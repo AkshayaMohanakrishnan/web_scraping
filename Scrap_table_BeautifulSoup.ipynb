{
  "nbformat": 4,
  "nbformat_minor": 0,
  "metadata": {
    "colab": {
      "provenance": [],
      "authorship_tag": "ABX9TyNHttYPcsB8D2wz/qBbawVb",
      "include_colab_link": true
    },
    "kernelspec": {
      "name": "python3",
      "display_name": "Python 3"
    },
    "language_info": {
      "name": "python"
    }
  },
  "cells": [
    {
      "cell_type": "markdown",
      "metadata": {
        "id": "view-in-github",
        "colab_type": "text"
      },
      "source": [
        "<a href=\"https://colab.research.google.com/github/AkshayaMohanakrishnan/web_scraping_practice/blob/main/Scrap_table_BeautifulSoup.ipynb\" target=\"_parent\"><img src=\"https://colab.research.google.com/assets/colab-badge.svg\" alt=\"Open In Colab\"/></a>"
      ]
    },
    {
      "cell_type": "markdown",
      "source": [
        "**scrap a table from a website using BeautifulSoup**"
      ],
      "metadata": {
        "id": "lsWX5qA2zYJ9"
      }
    },
    {
      "cell_type": "code",
      "source": [
        "import requests\n",
        "from bs4 import BeautifulSoup\n",
        "url=\"https://ticker.finology.in/\"\n",
        "r=requests.get(url)\n",
        "print(r)"
      ],
      "metadata": {
        "colab": {
          "base_uri": "https://localhost:8080/"
        },
        "id": "ZKd4R978zla_",
        "outputId": "2e1bee13-606d-4c8c-b2ff-dc8a2a859aae"
      },
      "execution_count": null,
      "outputs": [
        {
          "output_type": "stream",
          "name": "stdout",
          "text": [
            "<Response [200]>\n"
          ]
        }
      ]
    },
    {
      "cell_type": "code",
      "source": [
        "import requests\n",
        "from bs4 import BeautifulSoup\n",
        "url=\"https://ticker.finology.in/\"\n",
        "r=requests.get(url)\n",
        "soup = BeautifulSoup(r.text,\"lxml\")\n",
        "table = soup.find(\"table\",class_ =\"table table-sm table-hover screenertable\")\n",
        "print(table)\n",
        "headers  = table.find_all(\"th\")\n",
        "print(headers)\n"
      ],
      "metadata": {
        "id": "a59P3LWY1Ng4",
        "colab": {
          "base_uri": "https://localhost:8080/"
        },
        "outputId": "f88e1e40-69be-43c0-8fd0-91868d148d62"
      },
      "execution_count": null,
      "outputs": [
        {
          "output_type": "stream",
          "name": "stdout",
          "text": [
            "<table class=\"table table-sm table-hover screenertable\">\n",
            "<thead>\n",
            "<tr>\n",
            "<th scope=\"col\">Company</th>\n",
            "<th scope=\"col\">Price<span class=\"muted\">Rs.</span></th>\n",
            "<th scope=\"col\">Day High<span class=\"muted\">Rs.</span></th>\n",
            "</tr>\n",
            "</thead>\n",
            "<tbody>\n",
            "<tr>\n",
            "<td>\n",
            "<a class=\"complink\" href=\"company/GKWLIMITED\">GKW</a>\n",
            "</td>\n",
            "<td class=\"Number\">996.55</td>\n",
            "<td class=\"Number\">1012.20</td>\n",
            "</tr>\n",
            "<tr>\n",
            "<td>\n",
            "<a class=\"complink\" href=\"company/MICEL\">MIC Electronics</a>\n",
            "</td>\n",
            "<td class=\"Number\">23.70</td>\n",
            "<td class=\"Number\">23.70</td>\n",
            "</tr>\n",
            "<tr>\n",
            "<td>\n",
            "<a class=\"complink\" href=\"company/SCRIP-218959\">Essar Securities</a>\n",
            "</td>\n",
            "<td class=\"Number\">9.97</td>\n",
            "<td class=\"Number\">10.44</td>\n",
            "</tr>\n",
            "<tr>\n",
            "<td>\n",
            "<a class=\"complink\" href=\"company/SCRIP-117546\">Alfa Transformers</a>\n",
            "</td>\n",
            "<td class=\"Number\">34.30</td>\n",
            "<td class=\"Number\">37.00</td>\n",
            "</tr>\n",
            "<tr>\n",
            "<td>\n",
            "<a class=\"complink\" href=\"company/NINSYS\">Nintec Systems</a>\n",
            "</td>\n",
            "<td class=\"Number\">646.70</td>\n",
            "<td class=\"Number\">646.70</td>\n",
            "</tr>\n",
            "<tr>\n",
            "<td>\n",
            "<a class=\"complink\" href=\"company/SCRIP-300013\">AA Plus Tradelink</a>\n",
            "</td>\n",
            "<td class=\"Number\">17.67</td>\n",
            "<td class=\"Number\">17.67</td>\n",
            "</tr>\n",
            "<tr>\n",
            "<td>\n",
            "<a class=\"complink\" href=\"company/SCRIP-130695\">Prime Prop. Dev Corp</a>\n",
            "</td>\n",
            "<td class=\"Number\">20.48</td>\n",
            "<td class=\"Number\">21.27</td>\n",
            "</tr>\n",
            "<tr>\n",
            "<td>\n",
            "<a class=\"complink\" href=\"company/SCRIP-209159\">Samrat Forgings Ltd.</a>\n",
            "</td>\n",
            "<td class=\"Number\">290.00</td>\n",
            "<td class=\"Number\">290.00</td>\n",
            "</tr>\n",
            "<tr>\n",
            "<td>\n",
            "<a class=\"complink\" href=\"company/SCRIP-284441\">Flora Corporation</a>\n",
            "</td>\n",
            "<td class=\"Number\">14.86</td>\n",
            "<td class=\"Number\">14.86</td>\n",
            "</tr>\n",
            "<tr>\n",
            "<td>\n",
            "<a class=\"complink\" href=\"company/SCRIP-126494\">Promact Impex</a>\n",
            "</td>\n",
            "<td class=\"Number\">5.11</td>\n",
            "<td class=\"Number\">5.11</td>\n",
            "</tr>\n",
            "<tr>\n",
            "<td>\n",
            "<a class=\"complink\" href=\"company/SCRIP-126761\">Howard Hotels</a>\n",
            "</td>\n",
            "<td class=\"Number\">11.50</td>\n",
            "<td class=\"Number\">11.50</td>\n",
            "</tr>\n",
            "<tr>\n",
            "<td>\n",
            "<a class=\"complink\" href=\"company/ZODJRDMKJ\">Zodiac-JRD-MKJ</a>\n",
            "</td>\n",
            "<td class=\"Number\">31.95</td>\n",
            "<td class=\"Number\">33.50</td>\n",
            "</tr>\n",
            "<tr>\n",
            "<td>\n",
            "<a class=\"complink\" href=\"company/SCRIP-130217\">Swojas Energy Foods</a>\n",
            "</td>\n",
            "<td class=\"Number\">5.85</td>\n",
            "<td class=\"Number\">5.85</td>\n",
            "</tr>\n",
            "<tr>\n",
            "<td>\n",
            "<a class=\"complink\" href=\"company/SCRIP-111563\">Sanchay Finvest</a>\n",
            "</td>\n",
            "<td class=\"Number\">9.38</td>\n",
            "<td class=\"Number\">9.38</td>\n",
            "</tr>\n",
            "<tr>\n",
            "<td>\n",
            "<a class=\"complink\" href=\"company/SCRIP-267227\">Arman Holdings</a>\n",
            "</td>\n",
            "<td class=\"Number\">90.99</td>\n",
            "<td class=\"Number\">90.99</td>\n",
            "</tr>\n",
            "</tbody>\n",
            "</table>\n",
            "[<th scope=\"col\">Company</th>, <th scope=\"col\">Price<span class=\"muted\">Rs.</span></th>, <th scope=\"col\">Day High<span class=\"muted\">Rs.</span></th>]\n"
          ]
        }
      ]
    },
    {
      "cell_type": "code",
      "source": [
        "import requests\n",
        "from bs4 import BeautifulSoup\n",
        "url=\"https://ticker.finology.in/\"\n",
        "r=requests.get(url)\n",
        "soup = BeautifulSoup(r.text,\"lxml\")\n",
        "table = soup.find(\"table\",class_ =\"table table-sm table-hover screenertable\")\n",
        "headers  = table.find_all(\"th\")\n",
        "titles = []\n",
        "for i in headers:\n",
        "  title = i.text\n",
        "  titles.append(title)\n",
        "print(titles)# to get the header of the table"
      ],
      "metadata": {
        "colab": {
          "base_uri": "https://localhost:8080/"
        },
        "id": "v868QjQU7K59",
        "outputId": "d9ee5708-401b-4c43-8011-4b41647736ee"
      },
      "execution_count": null,
      "outputs": [
        {
          "output_type": "stream",
          "name": "stdout",
          "text": [
            "['Company', 'PriceRs.', 'Day HighRs.']\n"
          ]
        }
      ]
    },
    {
      "cell_type": "code",
      "source": [
        "import requests\n",
        "import pandas as pd\n",
        "from bs4 import BeautifulSoup\n",
        "url=\"https://ticker.finology.in/\"\n",
        "r=requests.get(url)\n",
        "soup = BeautifulSoup(r.text,\"lxml\")\n",
        "table = soup.find(\"table\",class_ =\"table table-sm table-hover screenertable\")\n",
        "headers  = table.find_all(\"th\")\n",
        "titles = []\n",
        "for i in headers:\n",
        "  title = i.text\n",
        "  titles.append(title)\n",
        "df = pd.DataFrame(columns=titles)\n",
        "print(df)"
      ],
      "metadata": {
        "colab": {
          "base_uri": "https://localhost:8080/"
        },
        "id": "Qi9zn16b76uc",
        "outputId": "645a49fb-4467-4a09-fbee-65ec4e99b4e7"
      },
      "execution_count": null,
      "outputs": [
        {
          "output_type": "stream",
          "name": "stdout",
          "text": [
            "Empty DataFrame\n",
            "Columns: [Company, PriceRs., Day HighRs.]\n",
            "Index: []\n"
          ]
        }
      ]
    },
    {
      "cell_type": "code",
      "source": [
        "import requests\n",
        "import pandas as pd\n",
        "from bs4 import BeautifulSoup\n",
        "url=\"https://ticker.finology.in/\"\n",
        "r=requests.get(url)\n",
        "soup = BeautifulSoup(r.text,\"lxml\")\n",
        "table = soup.find(\"table\",class_ =\"table table-sm table-hover screenertable\")\n",
        "headers  = table.find_all(\"th\")\n",
        "titles = []\n",
        "for i in headers:\n",
        "  title = i.text\n",
        "  titles.append(title)\n",
        "df = pd.DataFrame(columns=titles)\n",
        "rows = table.find_all(\"tr\")\n",
        "#print(rows)\n",
        "for i in rows[1:]:\n",
        "  data=table.find_all(\"td\")\n",
        "  print(data)"
      ],
      "metadata": {
        "id": "t2BxgnP0V3-m"
      },
      "execution_count": null,
      "outputs": []
    },
    {
      "cell_type": "code",
      "source": [
        "import requests\n",
        "import pandas as pd\n",
        "from bs4 import BeautifulSoup\n",
        "url=\"https://ticker.finology.in/\"\n",
        "r=requests.get(url)\n",
        "soup = BeautifulSoup(r.text,\"lxml\")\n",
        "table = soup.find(\"table\",class_ =\"table table-sm table-hover screenertable\")\n",
        "headers  = table.find_all(\"th\")\n",
        "titles = []\n",
        "for i in headers:\n",
        "  title = i.text\n",
        "  titles.append(title)\n",
        "df = pd.DataFrame(columns=titles)\n",
        "rows = table.find_all(\"tr\")\n",
        "print(rows)\n",
        "for i in rows[1:]:\n",
        "  data = i.find_all(\"td\")\n",
        "  row = [tr.text for tr in data]\n",
        "  print(row)"
      ],
      "metadata": {
        "id": "7MhEjatvWuKp"
      },
      "execution_count": null,
      "outputs": []
    },
    {
      "cell_type": "markdown",
      "source": [
        "To append in a data frame"
      ],
      "metadata": {
        "id": "Fiw8iJIhEAP0"
      }
    },
    {
      "cell_type": "code",
      "source": [
        "import requests\n",
        "import pandas as pd\n",
        "from bs4 import BeautifulSoup\n",
        "url=\"https://ticker.finology.in/\"\n",
        "r=requests.get(url)\n",
        "soup = BeautifulSoup(r.text,\"lxml\")\n",
        "table = soup.find(\"table\",class_ =\"table table-sm table-hover screenertable\")\n",
        "headers  = table.find_all(\"th\")\n",
        "titles = []\n",
        "for i in headers:\n",
        "  title = i.text\n",
        "  titles.append(title)\n",
        "df = pd.DataFrame(columns=titles)\n",
        "rows = table.find_all(\"tr\")#tr stands for table row\n",
        "#print(rows)\n",
        "for i in rows[1:]:\n",
        "  data = i.find_all(\"td\")#td stands for table data\n",
        "  row = [tr.text for tr in data]\n",
        "  #print(row)\n",
        "  l=len(df)\n",
        "  df.loc[l] = row\n",
        "print(df)"
      ],
      "metadata": {
        "id": "G4mnsNZVEIzY"
      },
      "execution_count": null,
      "outputs": []
    }
  ]
}