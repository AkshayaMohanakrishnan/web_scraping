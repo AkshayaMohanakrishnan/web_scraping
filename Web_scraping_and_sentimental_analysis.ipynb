{
  "nbformat": 4,
  "nbformat_minor": 0,
  "metadata": {
    "colab": {
      "provenance": [],
      "authorship_tag": "ABX9TyOgYIbZ4tmUGvRBhNCqFFCm",
      "include_colab_link": true
    },
    "kernelspec": {
      "name": "python3",
      "display_name": "Python 3"
    },
    "language_info": {
      "name": "python"
    }
  },
  "cells": [
    {
      "cell_type": "markdown",
      "metadata": {
        "id": "view-in-github",
        "colab_type": "text"
      },
      "source": [
        "<a href=\"https://colab.research.google.com/github/AkshayaMohanakrishnan/web_scraping_practice/blob/main/Web_scraping_and_sentimental_analysis.ipynb\" target=\"_parent\"><img src=\"https://colab.research.google.com/assets/colab-badge.svg\" alt=\"Open In Colab\"/></a>"
      ]
    },
    {
      "cell_type": "code",
      "execution_count": null,
      "metadata": {
        "id": "XwgTao2HrI03"
      },
      "outputs": [],
      "source": [
        "import pandas as pd\n",
        "import numpy as np\n",
        "import matplotlib.pyplot as plt\n",
        "%matplotlib inline"
      ]
    },
    {
      "cell_type": "code",
      "source": [
        "import requests\n",
        "import bs4\n",
        "import textblob"
      ],
      "metadata": {
        "id": "1-PBwYW5uhOy"
      },
      "execution_count": null,
      "outputs": []
    },
    {
      "cell_type": "code",
      "source": [
        "coffee=requests.get(\"https://insights.blackcoffer.com/ai-in-healthcare-to-improve-patient-outcomes/\")\n",
        "print(coffee.status_code)"
      ],
      "metadata": {
        "colab": {
          "base_uri": "https://localhost:8080/"
        },
        "id": "nnuaBZtKV9CU",
        "outputId": "effcfb5e-8593-4fe4-9b9e-f123a6654a83"
      },
      "execution_count": null,
      "outputs": [
        {
          "output_type": "stream",
          "name": "stdout",
          "text": [
            "200\n"
          ]
        }
      ]
    },
    {
      "cell_type": "code",
      "source": [
        "from bs4 import BeautifulSoup"
      ],
      "metadata": {
        "id": "Pl8bFJe8WJcM"
      },
      "execution_count": null,
      "outputs": []
    },
    {
      "cell_type": "code",
      "source": [
        "c=BeautifulSoup(coffee.content,'lxml')"
      ],
      "metadata": {
        "id": "2iGt7ICfWYa_"
      },
      "execution_count": null,
      "outputs": []
    },
    {
      "cell_type": "code",
      "source": [
        "c=c.getText(strip=True)"
      ],
      "metadata": {
        "id": "rEqal8yMWkAq"
      },
      "execution_count": null,
      "outputs": []
    },
    {
      "cell_type": "code",
      "source": [
        "c"
      ],
      "metadata": {
        "colab": {
          "base_uri": "https://localhost:8080/",
          "height": 140
        },
        "id": "U-bbCKgpWuhq",
        "outputId": "8246d917-5553-46e0-eb54-c2569c614386"
      },
      "execution_count": null,
      "outputs": [
        {
          "output_type": "execute_result",
          "data": {
            "text/plain": [
              "'AI in healthcare to Improve Patient Outcomes | Blackcoffer InsightsSign inOur Success StoriesBanking, Financials, Securities, and InsuranceEnergyEntertainmentFast Moving Consumer GoodsGovernment & Think TanksHealthcareInfrastructure & Real EstateITLifestyle, eCommerce & Online Market PlaceProduction & ManufacturingResearch & AcademiaRetail & Supply ChainTelecomWhat We DoBanking, Financials, Securities, and InsuranceEnergyEntertainmentFast Moving Consumer GoodsGovernment & Think TanksHealthcareHospitalityInfrastructure & Real EstateIT ServicesLifestyle, eCommerce & Online Market PlaceNews & MediaProduction & ManufacturingResearch & AcademiaRetail & Supply ChainWhat We ThinkAutomobiles & ComponentsBFSIAsset and PortfolioBanksCapital MarketsDerivatives and SecuritiesDiversified FinancialsFinance & AccountingInsuranceSecurities and Capital MarketsCapital GoodsCommercial & Professional ServicesConsumer DiscretionaryConsumer Durables & ApparelConsumer ServicesConsumer StaplesFood & Staples RetailingFood, Beverage & TobaccoHousehold & Personal ProductsData ScienceAnalyticsArtificial IntelligenceBig DataBusiness AnalyticsData VisualizationInternet of ThingsMachine LearningStatisticsEnergyDataOilHow ToAnalyticsApplication DevelopmentArtificial IntelligenceBusiness AnalyticsExampleOptimizationProjectsSoftware DevelopmentSource Code AuditStatisticsWeb & Mobile App DevelopmentSchedule DemoContactSign inWelcome!Log into your accountyour usernameyour passwordForgot your password?Password recoveryRecover your passwordyour emailSearchSign inWelcome! Log into your accountyour usernameyour passwordForgot your password? Get helpPassword recoveryRecover your passwordyour emailA password will be e-mailed to you.Friday, June 23, 2023Sign in / JoinOur Success StoriesWhat We DoWhat We ThinkHow ToSchedule DemoContactFacebookLinkedinTwitterYoutubeOur Success StoriesAllBanking, Financials, Securities, and InsuranceEnergyEntertainmentFast Moving Consumer GoodsGovernment & Think TanksHealthcareInfrastructure & Real EstateITLifestyle, eCommerce & Online Market PlaceProduction & ManufacturingResearch & AcademiaOur Success StoriesRanking customer behaviours for business strategyDecember 31, 2022Our Success StoriesAlgorithmic trading for multiple commodities markets, like Forex, Metals, Energy, etc.December 31, 2022Our Success StoriesTrading Bot for FOREXDecember 31, 2022Our Success StoriesPython model for the analysis of sector-specific stock ETFs for investment purposesDecember 31, 2022What We DoAllBanking, Financials, Securities, and InsuranceEnergyEntertainmentFast Moving Consumer GoodsGovernment & Think TanksHealthcareHospitalityInfrastructure & Real EstateIT ServicesLifestyle, eCommerce & Online Market PlaceNews & MediaWhat We DoAutoGPT SetupMay 10, 2023What We DoPlaystore & Appstore to Google Analytics (GA) or Firebase to Google Data Studio Mobile App KPI DashboardSeptember 19, 2022What We DoGoogle Local Service Ads LSA API To Google BigQuery to Google Data StudioMay 6, 2022Our Success StoriesAI Conversational Bot using RASAFebruary 19, 2022What We ThinkAllAutomobiles & ComponentsBFSIAsset and PortfolioBanksCapital MarketsDerivatives and SecuritiesDiversified FinancialsFinance & AccountingInsuranceSecurities and Capital MarketsCapital GoodsWhat We ThinkRise of telemedicine and its Impact on Livelihood by 2040January 2, 2023What We ThinkRise of e-health and its impact on humans by the year 2030January 2, 2023What We ThinkRise of e-health and its impact on humans by the year 2030January 2, 2023What We ThinkRise of telemedicine and its Impact on Livelihood by 2040January 2, 2023How ToAllAnalyticsApplication DevelopmentArtificial IntelligenceBusiness AnalyticsExampleOptimizationProjectsSoftware DevelopmentSource Code AuditStatisticsWeb & Mobile App DevelopmentWhat We DoAI/ML and Predictive ModelingFebruary 3, 2022BlackcofferSolution for Contact Centre ProblemsApril 26, 2021How ToHow to Setup Custom Domain for Google App Engine Application?February 13, 2021How ToCode Review ChecklistApril 10, 2020Schedule DemoContactSearchHomeWhat We ThinkAI in healthcare to Improve Patient OutcomesArtificial IntelligenceData VisualizationMachine LearningBig DataWhat We ThinkAI in healthcare to Improve Patient OutcomesByAjay BidyarthyJune 26, 2021030200ShareFacebookTwitterPinterestWhatsAppIntroduction“If anything kills over 10 million people in the next few decades, it will be a highly infectious virus rather than a war. Not missiles but microbes.” Bill Gates’s remarks at a TED conference in 2014, right after the world had avoided the Ebola outbreak. When the new, unprecedented, invisible virus hit us, it met an overwhelmed and unprepared healthcare system and oblivious population. This public health emergency demonstrated our lack of scientific consideration and underlined the alarming need for robust innovations in our health and medical facilities. For the past few years, artificial intelligence has proven to be of tangible potential in the healthcare sectors, clinical practices, translational medical and biomedical research.After the first case was detected in China on December 31st 2019, it was an AI program developed by BlueDot that alerted the world about the pandemic. It was quick to realise AI’s ability to analyse large chunks of data could help in detecting patterns and identifying and tracking the possible carriers of the virus.Many tracing apps use AI to keep tabs on the people who have been infected and prevent the risk of cross-infection by using AI algorithms that can track patterns and extract some features to classify or categorise them.So how does AI do that?IBM Watson, a sophisticated AI that works on cloud computing and natural language processing, has prominently contributed to the healthcare sector on a global level. Being a conversational AI, since 2013, Watson has helped in recommending treatments to patients suffering from cancer to ensure that they get the best treatment at optimum costs.Researchers at Google Inc. showed that an AI system can be trained on thousands of images to achieve physician-level sensitivity.By identifying the molecular patterns associated with disease status and its subtypes, gene expression, and protein abundance levels, machine learning methods can detect fatal diseases like cancer at an early stage. Machine Learning (ML) techniques focus mainly on analyzing structured data, which can further help in clustering patients’ traits and infer the probability of disease outcomes. Since patient traits mainly include masses of data relating to age, gender, disease history, disease-specific data like diagnostic imaging and gene expressions, etc, ML can extract features from these data inputs by constructing data analytical algorithms.ML algorithms are either supervised or unsupervised. Unsupervised learning helps in extracting features and clustering similar features together that further leads to early detection of diseases. Clustering and principal component analysis enable grouping or clustering of similar traits together that are further used to maximize or minimize the similarity between the patients within or between the clusters. Since patient traits are recorded in multiple dimensions, such as genes, principal component analysis(PCA) creates the apparatus to reduce these dimensions which humans could have not done alone.Supervised learning considers the outcomes of the subjects together with the traits, and further correlates the inputs with the outputs to predict the probability of getting a particular clinical event, expected value of a disease level or expected survival time, or risk of Down’s syndrome.Biomarker panels that are mostly used to detect ovarian cancer, have outperformed the conventional statistical methods due to machine learning. In addition to this, the use of EHRs and Bayesian networks, which are a part of supervised machine learning algorithms, can predict clinical outcomes and mortality respectively.Unstructured data such as clinical notes and texts are converted into machine-readable structured data with the help of natural language processing(NLP). NLP works with two components: text processing and classification. Text processing helps in identifying a series of disease-relevant keywords in clinical notes and then through classification are further categorized into normal and abnormal cases. Chest screening through ML and NLP has helped find abnormalities in the lungs and provide treatment to covid patients. Healthcare organizations use NLP-based chatbots to increase interactions with patients, keeping their mental health and wellness in check.Deep learning is a modern extension of the classical neural network techniques which helps explore more complex non-linear patterns in data, using algorithms like convolution neural network, recurrent neural network, deep belief network, and deep neural network which enables more accurate clinical prediction. When it comes to genome interpretation, deep neural networks surpass the conventional methods of logistics regression and support vector machines.Sepsis Watch is an AI system trained in deep learning algorithms that holds the capability to analyze over 32 million data points to create a patient’s risk score and identify the early stages of sepsis.Another method known as the Learning-based Optimization of the Under Sampling Pattern( LOUPE) is based on integrating full resolution MRI scans with the convolutional neural network algorithm, which helps in creating more accurate reconstructions.Robotic surgery is widely considered in most delicate surgeries like gynaecology and prostate surgery. Even after striking the right balance between human decisions and AI precision, robotic surgery reduces surgeon efficiency as they have to be manually operated through a console. Thus, autonomous robotic surgery is on the rise with inventions such as robotic silicon fingers that mimic the sense of touch that surgeons need to identify organs, cut tissues, etc., or robotic catheters that can navigate whether it is touching blood, tissue, or valve.Researchers at Children’s National Hospital, Washington have already developed an AI called Smart Tissue Autonomous Robot (STAR), which performs a colon anastomosis on its own with the help of an ML-powered suturing tool, that automatically detects the patient’s breathing pattern to apply suture at the correct point.An image of STAR during surgery.Cloud computing in healthcare has helped in retrieving and sharing medical records safely with a reduction in maintenance costs. Through this technology doctors and various healthcare workers have access to detailed patient data that helps in speeding up analysis ultimately leading to better care in the form of more accurate information, medications, and therapies.How can It help in Biomedical research?Since AI can analyze literature beyond readability, it can be used to concise biomedical research. With the help of ML algorithms and NLP, AI can accelerate screening and indexing of biomedical research, by ranking the literature of interest which allows researchers to formulate and test scientific hypotheses far more precisely and quickly. Taking it to the next level, AI systems like the computational modelling assistant (CMA) helps researchers to construct simulation models from the concepts they have in mind. Such innovations have majorly contributed to topics such as tumour suppressor mechanisms and protein-protein interaction information extraction.AI as precision medicineSince precision medicine focuses on healthcare interventions to individuals or groups of patients based on their profile, the various AI devices pave the way to practice it more efficiently. With the help of ML, complex algorithms like large datasets can be used to predict and create an optimal treatment strategy.Deep learning and neural networks can be used to process data in healthcare apps and keep a close watch on the patient’s emotional state, food intake, or health monitoring.“Omics” refers to the collective technologies that help in exploring the roles, relationships of various branches ending with the suffix “omics” such as genomics, proteomics, etc. Omics-based tests based on machine learning algorithms help find correlations and predict treatment responses, ultimately creating personalized treatments for individual patients.How it helps in psychology and neuro patientsFor psychologists studying creativity,\\xa0 AI is promising new classes of experiments that are developing data structures and programs and exploring novel theories on a new horizon. Studies show that \\xa0AI can conduct therapy sessions,e-therapysessions, and assessments autonomously, also assisting human practitioners before, during, or after sessions. The Detection and Computational Analysis of Psychological Signal project uses ML, computer vision, and NLP to analyze language, physical gestures, and social signals to identify cues for human distress. This ground-breaking technology assesses soldiers returning from combat and recognizes those who require further mental health support. In the future, it will combine data captured during face-to-face interviews with information on sleeping, eating, and online behaviours for a complete patient view.Stroke identificationStroke is another frequently occurring disease that affects more than 500 million people worldwide. Thrombus,\\xa0 in the vessel cerebral infarction is the major (about 85%) cause of stroke occurrence. In recent years, AI techniques have been used in numerous stroke-related studies as early detection and timely treatment along with efficient outcome prediction can help solve the problem. With AI at our disposal, large amounts of data with rich information, more complications and real-life clinical questions can be addressed in this arena. Currently, two ML algorithms- genetic fuzzy finite state machine and PCA were implemented to build a model building solution. These include a human activity recognition stage and a stroke onset detection stage. An alert stroke message is activated as soon as a movement significantly different from the normal pattern is recorded. ML methods have been applied to neuroimaging data to assist disease evaluation and predicting stroke treatment for the diagnosis.Patient MonitoringToday, the market for AI-based patient monitoring is impressive and monetarily enticing. It is evolving with artificial sensors, smart technologies and explores everything from brain-computer interfaces to nanorobotics. Companies with their smart-watches have engaged people to perform remote monitoring even when they are not “patients”. An obvious place to start is with wearable and embedded sensors, glucose monitors, pulse monitors, oximeters, and ECG monitors. With patient monitoring becoming crucial, AI finds numerous applications in chronic conditions, intensive care units, operating rooms, emergency rooms, and cardiac wards where timeless clinical decision-making can be measured in seconds. More advances have started to gain traction like smart prosthetics and implants. These play an impeccable role in patient management post-surgery or rehabilitation. Demographics, laboratory results and vital signs can also be used to predict cardiac arrest, transfer into the intensive care unit, or even death. In addition, an interpretable machine-learning model can assist anesthesiologists in predicting hypoxaemia events during surgery. This suggests that with deep-learning algorithms, raw patient-monitoring data could be better used to avoid information overload and alert overload while enabling more accurate clinical prediction and timely decision-making.ConclusionConsidering the vast range of tasks that an AI can do, it is evident that it holds deep potential in improving patient outcomes to skyrocketing levels. Using sophisticated algorithms AI can bring a revolution in the healthcare sector. Even after facing challenges like whether the technology will be able to deliver the promises, ethical measures, training physicians to use it, standard regulations etc, the role of AI in transforming the clinical practices cannot be ignored. The biggest challenge is the integration of AI in daily practice. All of these can be overcome and within that period the technologies will mature making the system far more enhanced and effective.Blackcoffer Insights 29: Sanskriti Sunderum and Aayushi Nauhwar, SRCC, Delhi UniversityTagsAIalgorithmCovidHealthcareMlpandemicpatient outcomesShareFacebookTwitterPinterestWhatsAppPrevious articleWhat if the Creation is Taking Over the Creator?Next articleFuture of AI and Machine Roles in the Medical SectorAjay BidyarthyRELATED ARTICLESWhat We ThinkRise of telemedicine and its Impact on Livelihood by 2040January 2, 2023What We ThinkRise of e-health and its impact on humans by the year 2030January 2, 2023What We ThinkRise of e-health and its impact on humans by the year 2030January 2, 2023Most PopularAutoGPT SetupMay 10, 2023Rise of telemedicine and its Impact on Livelihood by 2040January 2, 2023Rise of e-health and its impact on humans by the year 2030January 2, 2023Rise of e-health and its impact on humans by the year 2030January 2, 2023Load moreRecent CommentsChatbot and conversation agent Transform the experience and engagement - AI+ NEWSonChatbot and conversation agent Transform the experience and engagementChatbot and conversation agent Transform the experience and engagement - Blackcoffer InsightsonMarketing Analytics Solution, a Big Data ApproachLATEST ARTICLEAutoGPT SetupMay 10, 2023Rise of telemedicine and its Impact on Livelihood by 2040January 2, 2023Rise of e-health and its impact on humans by the year 2030January 2, 2023POPULAR INSIGHTSAutoGPT SetupMay 10, 2023Rise of telemedicine and its Impact on Livelihood by 2040January 2, 2023Rise of e-health and its impact on humans by the year 2030January 2, 2023POPULAR INSIGHTS CATEGORYWhat We Think166Our Success Stories126Blackcoffer118Healthcare52Artificial Intelligence51IT46Big Data44Lifestyle, eCommerce & Online Market Place38ABOUT USWe provide intelligence, accelerate innovation and implement technology with extraordinary breadth and depth global insights into the big data,data-driven dashboards, applications development, and information management for organizations through combining unique, specialist services and high-lvel human expertise.Contact us:hello@blackcoffer.comFOLLOW USFacebookLinkedinTwitterYoutube© All Right Reserved, Blackcoffer(OPC) Pvt. LtdOur Success StoriesWhat We DoWhat We ThinkHow ToSchedule DemoContact'"
            ],
            "application/vnd.google.colaboratory.intrinsic+json": {
              "type": "string"
            }
          },
          "metadata": {},
          "execution_count": 67
        }
      ]
    },
    {
      "cell_type": "code",
      "source": [
        "len(c)"
      ],
      "metadata": {
        "colab": {
          "base_uri": "https://localhost:8080/"
        },
        "id": "ml1X2KVMB6fW",
        "outputId": "24dae7d9-5319-48d8-d79c-a1c518d7f095"
      },
      "execution_count": null,
      "outputs": [
        {
          "output_type": "execute_result",
          "data": {
            "text/plain": [
              "18595"
            ]
          },
          "metadata": {},
          "execution_count": 68
        }
      ]
    },
    {
      "cell_type": "code",
      "source": [
        "import re #to clean up the content"
      ],
      "metadata": {
        "id": "vbreaQdtXu8h"
      },
      "execution_count": null,
      "outputs": []
    },
    {
      "cell_type": "code",
      "source": [
        "c=re.sub(r'\\[\\d\\+]',\"\",c)# pattern , replace, string #to remove digits in square bracket\n"
      ],
      "metadata": {
        "id": "uj2N1dGwXwgR"
      },
      "execution_count": null,
      "outputs": []
    },
    {
      "cell_type": "code",
      "source": [
        "c=re.sub(r'\\[\\w\\+]',\"\",c) #some words are in bracket is removed"
      ],
      "metadata": {
        "id": "qO68lnFLaw_m"
      },
      "execution_count": null,
      "outputs": []
    },
    {
      "cell_type": "code",
      "source": [
        "c=re.sub('[0-9]+',\"\",c)"
      ],
      "metadata": {
        "id": "b1IZ55cja6bo"
      },
      "execution_count": null,
      "outputs": []
    },
    {
      "cell_type": "code",
      "source": [
        "c"
      ],
      "metadata": {
        "id": "olwThsrsh5NE",
        "colab": {
          "base_uri": "https://localhost:8080/",
          "height": 140
        },
        "outputId": "89219874-03c2-4e13-dcf5-6b2fd4f71e70"
      },
      "execution_count": null,
      "outputs": [
        {
          "output_type": "execute_result",
          "data": {
            "text/plain": [
              "'AI in healthcare to Improve Patient Outcomes | Blackcoffer InsightsSign inOur Success StoriesBanking, Financials, Securities, and InsuranceEnergyEntertainmentFast Moving Consumer GoodsGovernment & Think TanksHealthcareInfrastructure & Real EstateITLifestyle, eCommerce & Online Market PlaceProduction & ManufacturingResearch & AcademiaRetail & Supply ChainTelecomWhat We DoBanking, Financials, Securities, and InsuranceEnergyEntertainmentFast Moving Consumer GoodsGovernment & Think TanksHealthcareHospitalityInfrastructure & Real EstateIT ServicesLifestyle, eCommerce & Online Market PlaceNews & MediaProduction & ManufacturingResearch & AcademiaRetail & Supply ChainWhat We ThinkAutomobiles & ComponentsBFSIAsset and PortfolioBanksCapital MarketsDerivatives and SecuritiesDiversified FinancialsFinance & AccountingInsuranceSecurities and Capital MarketsCapital GoodsCommercial & Professional ServicesConsumer DiscretionaryConsumer Durables & ApparelConsumer ServicesConsumer StaplesFood & Staples RetailingFood, Beverage & TobaccoHousehold & Personal ProductsData ScienceAnalyticsArtificial IntelligenceBig DataBusiness AnalyticsData VisualizationInternet of ThingsMachine LearningStatisticsEnergyDataOilHow ToAnalyticsApplication DevelopmentArtificial IntelligenceBusiness AnalyticsExampleOptimizationProjectsSoftware DevelopmentSource Code AuditStatisticsWeb & Mobile App DevelopmentSchedule DemoContactSign inWelcome!Log into your accountyour usernameyour passwordForgot your password?Password recoveryRecover your passwordyour emailSearchSign inWelcome! Log into your accountyour usernameyour passwordForgot your password? Get helpPassword recoveryRecover your passwordyour emailA password will be e-mailed to you.Friday, June , Sign in / JoinOur Success StoriesWhat We DoWhat We ThinkHow ToSchedule DemoContactFacebookLinkedinTwitterYoutubeOur Success StoriesAllBanking, Financials, Securities, and InsuranceEnergyEntertainmentFast Moving Consumer GoodsGovernment & Think TanksHealthcareInfrastructure & Real EstateITLifestyle, eCommerce & Online Market PlaceProduction & ManufacturingResearch & AcademiaOur Success StoriesRanking customer behaviours for business strategyDecember , Our Success StoriesAlgorithmic trading for multiple commodities markets, like Forex, Metals, Energy, etc.December , Our Success StoriesTrading Bot for FOREXDecember , Our Success StoriesPython model for the analysis of sector-specific stock ETFs for investment purposesDecember , What We DoAllBanking, Financials, Securities, and InsuranceEnergyEntertainmentFast Moving Consumer GoodsGovernment & Think TanksHealthcareHospitalityInfrastructure & Real EstateIT ServicesLifestyle, eCommerce & Online Market PlaceNews & MediaWhat We DoAutoGPT SetupMay , What We DoPlaystore & Appstore to Google Analytics (GA) or Firebase to Google Data Studio Mobile App KPI DashboardSeptember , What We DoGoogle Local Service Ads LSA API To Google BigQuery to Google Data StudioMay , Our Success StoriesAI Conversational Bot using RASAFebruary , What We ThinkAllAutomobiles & ComponentsBFSIAsset and PortfolioBanksCapital MarketsDerivatives and SecuritiesDiversified FinancialsFinance & AccountingInsuranceSecurities and Capital MarketsCapital GoodsWhat We ThinkRise of telemedicine and its Impact on Livelihood by January , What We ThinkRise of e-health and its impact on humans by the year January , What We ThinkRise of e-health and its impact on humans by the year January , What We ThinkRise of telemedicine and its Impact on Livelihood by January , How ToAllAnalyticsApplication DevelopmentArtificial IntelligenceBusiness AnalyticsExampleOptimizationProjectsSoftware DevelopmentSource Code AuditStatisticsWeb & Mobile App DevelopmentWhat We DoAI/ML and Predictive ModelingFebruary , BlackcofferSolution for Contact Centre ProblemsApril , How ToHow to Setup Custom Domain for Google App Engine Application?February , How ToCode Review ChecklistApril , Schedule DemoContactSearchHomeWhat We ThinkAI in healthcare to Improve Patient OutcomesArtificial IntelligenceData VisualizationMachine LearningBig DataWhat We ThinkAI in healthcare to Improve Patient OutcomesByAjay BidyarthyJune , ShareFacebookTwitterPinterestWhatsAppIntroduction“If anything kills over  million people in the next few decades, it will be a highly infectious virus rather than a war. Not missiles but microbes.” Bill Gates’s remarks at a TED conference in , right after the world had avoided the Ebola outbreak. When the new, unprecedented, invisible virus hit us, it met an overwhelmed and unprepared healthcare system and oblivious population. This public health emergency demonstrated our lack of scientific consideration and underlined the alarming need for robust innovations in our health and medical facilities. For the past few years, artificial intelligence has proven to be of tangible potential in the healthcare sectors, clinical practices, translational medical and biomedical research.After the first case was detected in China on December st , it was an AI program developed by BlueDot that alerted the world about the pandemic. It was quick to realise AI’s ability to analyse large chunks of data could help in detecting patterns and identifying and tracking the possible carriers of the virus.Many tracing apps use AI to keep tabs on the people who have been infected and prevent the risk of cross-infection by using AI algorithms that can track patterns and extract some features to classify or categorise them.So how does AI do that?IBM Watson, a sophisticated AI that works on cloud computing and natural language processing, has prominently contributed to the healthcare sector on a global level. Being a conversational AI, since , Watson has helped in recommending treatments to patients suffering from cancer to ensure that they get the best treatment at optimum costs.Researchers at Google Inc. showed that an AI system can be trained on thousands of images to achieve physician-level sensitivity.By identifying the molecular patterns associated with disease status and its subtypes, gene expression, and protein abundance levels, machine learning methods can detect fatal diseases like cancer at an early stage. Machine Learning (ML) techniques focus mainly on analyzing structured data, which can further help in clustering patients’ traits and infer the probability of disease outcomes. Since patient traits mainly include masses of data relating to age, gender, disease history, disease-specific data like diagnostic imaging and gene expressions, etc, ML can extract features from these data inputs by constructing data analytical algorithms.ML algorithms are either supervised or unsupervised. Unsupervised learning helps in extracting features and clustering similar features together that further leads to early detection of diseases. Clustering and principal component analysis enable grouping or clustering of similar traits together that are further used to maximize or minimize the similarity between the patients within or between the clusters. Since patient traits are recorded in multiple dimensions, such as genes, principal component analysis(PCA) creates the apparatus to reduce these dimensions which humans could have not done alone.Supervised learning considers the outcomes of the subjects together with the traits, and further correlates the inputs with the outputs to predict the probability of getting a particular clinical event, expected value of a disease level or expected survival time, or risk of Down’s syndrome.Biomarker panels that are mostly used to detect ovarian cancer, have outperformed the conventional statistical methods due to machine learning. In addition to this, the use of EHRs and Bayesian networks, which are a part of supervised machine learning algorithms, can predict clinical outcomes and mortality respectively.Unstructured data such as clinical notes and texts are converted into machine-readable structured data with the help of natural language processing(NLP). NLP works with two components: text processing and classification. Text processing helps in identifying a series of disease-relevant keywords in clinical notes and then through classification are further categorized into normal and abnormal cases. Chest screening through ML and NLP has helped find abnormalities in the lungs and provide treatment to covid patients. Healthcare organizations use NLP-based chatbots to increase interactions with patients, keeping their mental health and wellness in check.Deep learning is a modern extension of the classical neural network techniques which helps explore more complex non-linear patterns in data, using algorithms like convolution neural network, recurrent neural network, deep belief network, and deep neural network which enables more accurate clinical prediction. When it comes to genome interpretation, deep neural networks surpass the conventional methods of logistics regression and support vector machines.Sepsis Watch is an AI system trained in deep learning algorithms that holds the capability to analyze over  million data points to create a patient’s risk score and identify the early stages of sepsis.Another method known as the Learning-based Optimization of the Under Sampling Pattern( LOUPE) is based on integrating full resolution MRI scans with the convolutional neural network algorithm, which helps in creating more accurate reconstructions.Robotic surgery is widely considered in most delicate surgeries like gynaecology and prostate surgery. Even after striking the right balance between human decisions and AI precision, robotic surgery reduces surgeon efficiency as they have to be manually operated through a console. Thus, autonomous robotic surgery is on the rise with inventions such as robotic silicon fingers that mimic the sense of touch that surgeons need to identify organs, cut tissues, etc., or robotic catheters that can navigate whether it is touching blood, tissue, or valve.Researchers at Children’s National Hospital, Washington have already developed an AI called Smart Tissue Autonomous Robot (STAR), which performs a colon anastomosis on its own with the help of an ML-powered suturing tool, that automatically detects the patient’s breathing pattern to apply suture at the correct point.An image of STAR during surgery.Cloud computing in healthcare has helped in retrieving and sharing medical records safely with a reduction in maintenance costs. Through this technology doctors and various healthcare workers have access to detailed patient data that helps in speeding up analysis ultimately leading to better care in the form of more accurate information, medications, and therapies.How can It help in Biomedical research?Since AI can analyze literature beyond readability, it can be used to concise biomedical research. With the help of ML algorithms and NLP, AI can accelerate screening and indexing of biomedical research, by ranking the literature of interest which allows researchers to formulate and test scientific hypotheses far more precisely and quickly. Taking it to the next level, AI systems like the computational modelling assistant (CMA) helps researchers to construct simulation models from the concepts they have in mind. Such innovations have majorly contributed to topics such as tumour suppressor mechanisms and protein-protein interaction information extraction.AI as precision medicineSince precision medicine focuses on healthcare interventions to individuals or groups of patients based on their profile, the various AI devices pave the way to practice it more efficiently. With the help of ML, complex algorithms like large datasets can be used to predict and create an optimal treatment strategy.Deep learning and neural networks can be used to process data in healthcare apps and keep a close watch on the patient’s emotional state, food intake, or health monitoring.“Omics” refers to the collective technologies that help in exploring the roles, relationships of various branches ending with the suffix “omics” such as genomics, proteomics, etc. Omics-based tests based on machine learning algorithms help find correlations and predict treatment responses, ultimately creating personalized treatments for individual patients.How it helps in psychology and neuro patientsFor psychologists studying creativity,\\xa0 AI is promising new classes of experiments that are developing data structures and programs and exploring novel theories on a new horizon. Studies show that \\xa0AI can conduct therapy sessions,e-therapysessions, and assessments autonomously, also assisting human practitioners before, during, or after sessions. The Detection and Computational Analysis of Psychological Signal project uses ML, computer vision, and NLP to analyze language, physical gestures, and social signals to identify cues for human distress. This ground-breaking technology assesses soldiers returning from combat and recognizes those who require further mental health support. In the future, it will combine data captured during face-to-face interviews with information on sleeping, eating, and online behaviours for a complete patient view.Stroke identificationStroke is another frequently occurring disease that affects more than  million people worldwide. Thrombus,\\xa0 in the vessel cerebral infarction is the major (about %) cause of stroke occurrence. In recent years, AI techniques have been used in numerous stroke-related studies as early detection and timely treatment along with efficient outcome prediction can help solve the problem. With AI at our disposal, large amounts of data with rich information, more complications and real-life clinical questions can be addressed in this arena. Currently, two ML algorithms- genetic fuzzy finite state machine and PCA were implemented to build a model building solution. These include a human activity recognition stage and a stroke onset detection stage. An alert stroke message is activated as soon as a movement significantly different from the normal pattern is recorded. ML methods have been applied to neuroimaging data to assist disease evaluation and predicting stroke treatment for the diagnosis.Patient MonitoringToday, the market for AI-based patient monitoring is impressive and monetarily enticing. It is evolving with artificial sensors, smart technologies and explores everything from brain-computer interfaces to nanorobotics. Companies with their smart-watches have engaged people to perform remote monitoring even when they are not “patients”. An obvious place to start is with wearable and embedded sensors, glucose monitors, pulse monitors, oximeters, and ECG monitors. With patient monitoring becoming crucial, AI finds numerous applications in chronic conditions, intensive care units, operating rooms, emergency rooms, and cardiac wards where timeless clinical decision-making can be measured in seconds. More advances have started to gain traction like smart prosthetics and implants. These play an impeccable role in patient management post-surgery or rehabilitation. Demographics, laboratory results and vital signs can also be used to predict cardiac arrest, transfer into the intensive care unit, or even death. In addition, an interpretable machine-learning model can assist anesthesiologists in predicting hypoxaemia events during surgery. This suggests that with deep-learning algorithms, raw patient-monitoring data could be better used to avoid information overload and alert overload while enabling more accurate clinical prediction and timely decision-making.ConclusionConsidering the vast range of tasks that an AI can do, it is evident that it holds deep potential in improving patient outcomes to skyrocketing levels. Using sophisticated algorithms AI can bring a revolution in the healthcare sector. Even after facing challenges like whether the technology will be able to deliver the promises, ethical measures, training physicians to use it, standard regulations etc, the role of AI in transforming the clinical practices cannot be ignored. The biggest challenge is the integration of AI in daily practice. All of these can be overcome and within that period the technologies will mature making the system far more enhanced and effective.Blackcoffer Insights : Sanskriti Sunderum and Aayushi Nauhwar, SRCC, Delhi UniversityTagsAIalgorithmCovidHealthcareMlpandemicpatient outcomesShareFacebookTwitterPinterestWhatsAppPrevious articleWhat if the Creation is Taking Over the Creator?Next articleFuture of AI and Machine Roles in the Medical SectorAjay BidyarthyRELATED ARTICLESWhat We ThinkRise of telemedicine and its Impact on Livelihood by January , What We ThinkRise of e-health and its impact on humans by the year January , What We ThinkRise of e-health and its impact on humans by the year January , Most PopularAutoGPT SetupMay , Rise of telemedicine and its Impact on Livelihood by January , Rise of e-health and its impact on humans by the year January , Rise of e-health and its impact on humans by the year January , Load moreRecent CommentsChatbot and conversation agent Transform the experience and engagement - AI+ NEWSonChatbot and conversation agent Transform the experience and engagementChatbot and conversation agent Transform the experience and engagement - Blackcoffer InsightsonMarketing Analytics Solution, a Big Data ApproachLATEST ARTICLEAutoGPT SetupMay , Rise of telemedicine and its Impact on Livelihood by January , Rise of e-health and its impact on humans by the year January , POPULAR INSIGHTSAutoGPT SetupMay , Rise of telemedicine and its Impact on Livelihood by January , Rise of e-health and its impact on humans by the year January , POPULAR INSIGHTS CATEGORYWhat We ThinkOur Success StoriesBlackcofferHealthcareArtificial IntelligenceITBig DataLifestyle, eCommerce & Online Market PlaceABOUT USWe provide intelligence, accelerate innovation and implement technology with extraordinary breadth and depth global insights into the big data,data-driven dashboards, applications development, and information management for organizations through combining unique, specialist services and high-lvel human expertise.Contact us:hello@blackcoffer.comFOLLOW USFacebookLinkedinTwitterYoutube© All Right Reserved, Blackcoffer(OPC) Pvt. LtdOur Success StoriesWhat We DoWhat We ThinkHow ToSchedule DemoContact'"
            ],
            "application/vnd.google.colaboratory.intrinsic+json": {
              "type": "string"
            }
          },
          "metadata": {},
          "execution_count": 73
        }
      ]
    },
    {
      "cell_type": "code",
      "source": [
        "import nltk#Natural Language Toolkit\n"
      ],
      "metadata": {
        "id": "q5LVsxuoiGgQ"
      },
      "execution_count": null,
      "outputs": []
    },
    {
      "cell_type": "code",
      "source": [
        "nltk.download('punkt') # punkt in unsupervised training model"
      ],
      "metadata": {
        "colab": {
          "base_uri": "https://localhost:8080/"
        },
        "id": "8KMUyS4tzQYW",
        "outputId": "07fc8225-26bc-4879-befe-7fc94e041b6d"
      },
      "execution_count": null,
      "outputs": [
        {
          "output_type": "stream",
          "name": "stderr",
          "text": [
            "[nltk_data] Downloading package punkt to /root/nltk_data...\n",
            "[nltk_data]   Package punkt is already up-to-date!\n"
          ]
        },
        {
          "output_type": "execute_result",
          "data": {
            "text/plain": [
              "True"
            ]
          },
          "metadata": {},
          "execution_count": 75
        }
      ]
    },
    {
      "cell_type": "code",
      "source": [
        "nltk.download('stopwords')"
      ],
      "metadata": {
        "colab": {
          "base_uri": "https://localhost:8080/"
        },
        "id": "dHD0efuIH0ZF",
        "outputId": "750428c8-ca94-412f-d551-9b06053901f1"
      },
      "execution_count": null,
      "outputs": [
        {
          "output_type": "stream",
          "name": "stderr",
          "text": [
            "[nltk_data] Downloading package stopwords to /root/nltk_data...\n",
            "[nltk_data]   Package stopwords is already up-to-date!\n"
          ]
        },
        {
          "output_type": "execute_result",
          "data": {
            "text/plain": [
              "True"
            ]
          },
          "metadata": {},
          "execution_count": 76
        }
      ]
    },
    {
      "cell_type": "code",
      "source": [
        "from nltk.tokenize import sent_tokenize #Tokens can be thought of as a word in a sentence or a sentence in a paragraph\n",
        "# tokenization basically refers to splitting up a larger body of text into smaller lines"
      ],
      "metadata": {
        "id": "-rtUOq2_qHMj"
      },
      "execution_count": null,
      "outputs": []
    },
    {
      "cell_type": "code",
      "source": [
        "sentence=sent_tokenize(c)"
      ],
      "metadata": {
        "id": "PtHYEGRgy0MD"
      },
      "execution_count": null,
      "outputs": []
    },
    {
      "cell_type": "code",
      "source": [
        "len(sentence)"
      ],
      "metadata": {
        "colab": {
          "base_uri": "https://localhost:8080/"
        },
        "id": "-iqEiBu7BskE",
        "outputId": "1ee4b20a-6a63-437d-c4a0-a747c7cef429"
      },
      "execution_count": null,
      "outputs": [
        {
          "output_type": "execute_result",
          "data": {
            "text/plain": [
              "53"
            ]
          },
          "metadata": {},
          "execution_count": 79
        }
      ]
    },
    {
      "cell_type": "code",
      "source": [
        "sentence"
      ],
      "metadata": {
        "id": "lx9BmCS5B_Vz",
        "colab": {
          "base_uri": "https://localhost:8080/"
        },
        "outputId": "ccf46afa-0619-490a-c56e-32b0daf66399"
      },
      "execution_count": null,
      "outputs": [
        {
          "output_type": "execute_result",
          "data": {
            "text/plain": [
              "['AI in healthcare to Improve Patient Outcomes | Blackcoffer InsightsSign inOur Success StoriesBanking, Financials, Securities, and InsuranceEnergyEntertainmentFast Moving Consumer GoodsGovernment & Think TanksHealthcareInfrastructure & Real EstateITLifestyle, eCommerce & Online Market PlaceProduction & ManufacturingResearch & AcademiaRetail & Supply ChainTelecomWhat We DoBanking, Financials, Securities, and InsuranceEnergyEntertainmentFast Moving Consumer GoodsGovernment & Think TanksHealthcareHospitalityInfrastructure & Real EstateIT ServicesLifestyle, eCommerce & Online Market PlaceNews & MediaProduction & ManufacturingResearch & AcademiaRetail & Supply ChainWhat We ThinkAutomobiles & ComponentsBFSIAsset and PortfolioBanksCapital MarketsDerivatives and SecuritiesDiversified FinancialsFinance & AccountingInsuranceSecurities and Capital MarketsCapital GoodsCommercial & Professional ServicesConsumer DiscretionaryConsumer Durables & ApparelConsumer ServicesConsumer StaplesFood & Staples RetailingFood, Beverage & TobaccoHousehold & Personal ProductsData ScienceAnalyticsArtificial IntelligenceBig DataBusiness AnalyticsData VisualizationInternet of ThingsMachine LearningStatisticsEnergyDataOilHow ToAnalyticsApplication DevelopmentArtificial IntelligenceBusiness AnalyticsExampleOptimizationProjectsSoftware DevelopmentSource Code AuditStatisticsWeb & Mobile App DevelopmentSchedule DemoContactSign inWelcome!Log into your accountyour usernameyour passwordForgot your password?Password recoveryRecover your passwordyour emailSearchSign inWelcome!',\n",
              " 'Log into your accountyour usernameyour passwordForgot your password?',\n",
              " 'Get helpPassword recoveryRecover your passwordyour emailA password will be e-mailed to you.Friday, June , Sign in / JoinOur Success StoriesWhat We DoWhat We ThinkHow ToSchedule DemoContactFacebookLinkedinTwitterYoutubeOur Success StoriesAllBanking, Financials, Securities, and InsuranceEnergyEntertainmentFast Moving Consumer GoodsGovernment & Think TanksHealthcareInfrastructure & Real EstateITLifestyle, eCommerce & Online Market PlaceProduction & ManufacturingResearch & AcademiaOur Success StoriesRanking customer behaviours for business strategyDecember , Our Success StoriesAlgorithmic trading for multiple commodities markets, like Forex, Metals, Energy, etc.December , Our Success StoriesTrading Bot for FOREXDecember , Our Success StoriesPython model for the analysis of sector-specific stock ETFs for investment purposesDecember , What We DoAllBanking, Financials, Securities, and InsuranceEnergyEntertainmentFast Moving Consumer GoodsGovernment & Think TanksHealthcareHospitalityInfrastructure & Real EstateIT ServicesLifestyle, eCommerce & Online Market PlaceNews & MediaWhat We DoAutoGPT SetupMay , What We DoPlaystore & Appstore to Google Analytics (GA) or Firebase to Google Data Studio Mobile App KPI DashboardSeptember , What We DoGoogle Local Service Ads LSA API To Google BigQuery to Google Data StudioMay , Our Success StoriesAI Conversational Bot using RASAFebruary , What We ThinkAllAutomobiles & ComponentsBFSIAsset and PortfolioBanksCapital MarketsDerivatives and SecuritiesDiversified FinancialsFinance & AccountingInsuranceSecurities and Capital MarketsCapital GoodsWhat We ThinkRise of telemedicine and its Impact on Livelihood by January , What We ThinkRise of e-health and its impact on humans by the year January , What We ThinkRise of e-health and its impact on humans by the year January , What We ThinkRise of telemedicine and its Impact on Livelihood by January , How ToAllAnalyticsApplication DevelopmentArtificial IntelligenceBusiness AnalyticsExampleOptimizationProjectsSoftware DevelopmentSource Code AuditStatisticsWeb & Mobile App DevelopmentWhat We DoAI/ML and Predictive ModelingFebruary , BlackcofferSolution for Contact Centre ProblemsApril , How ToHow to Setup Custom Domain for Google App Engine Application?February , How ToCode Review ChecklistApril , Schedule DemoContactSearchHomeWhat We ThinkAI in healthcare to Improve Patient OutcomesArtificial IntelligenceData VisualizationMachine LearningBig DataWhat We ThinkAI in healthcare to Improve Patient OutcomesByAjay BidyarthyJune , ShareFacebookTwitterPinterestWhatsAppIntroduction“If anything kills over  million people in the next few decades, it will be a highly infectious virus rather than a war.',\n",
              " 'Not missiles but microbes.” Bill Gates’s remarks at a TED conference in , right after the world had avoided the Ebola outbreak.',\n",
              " 'When the new, unprecedented, invisible virus hit us, it met an overwhelmed and unprepared healthcare system and oblivious population.',\n",
              " 'This public health emergency demonstrated our lack of scientific consideration and underlined the alarming need for robust innovations in our health and medical facilities.',\n",
              " 'For the past few years, artificial intelligence has proven to be of tangible potential in the healthcare sectors, clinical practices, translational medical and biomedical research.After the first case was detected in China on December st , it was an AI program developed by BlueDot that alerted the world about the pandemic.',\n",
              " 'It was quick to realise AI’s ability to analyse large chunks of data could help in detecting patterns and identifying and tracking the possible carriers of the virus.Many tracing apps use AI to keep tabs on the people who have been infected and prevent the risk of cross-infection by using AI algorithms that can track patterns and extract some features to classify or categorise them.So how does AI do that?IBM Watson, a sophisticated AI that works on cloud computing and natural language processing, has prominently contributed to the healthcare sector on a global level.',\n",
              " 'Being a conversational AI, since , Watson has helped in recommending treatments to patients suffering from cancer to ensure that they get the best treatment at optimum costs.Researchers at Google Inc. showed that an AI system can be trained on thousands of images to achieve physician-level sensitivity.By identifying the molecular patterns associated with disease status and its subtypes, gene expression, and protein abundance levels, machine learning methods can detect fatal diseases like cancer at an early stage.',\n",
              " 'Machine Learning (ML) techniques focus mainly on analyzing structured data, which can further help in clustering patients’ traits and infer the probability of disease outcomes.',\n",
              " 'Since patient traits mainly include masses of data relating to age, gender, disease history, disease-specific data like diagnostic imaging and gene expressions, etc, ML can extract features from these data inputs by constructing data analytical algorithms.ML algorithms are either supervised or unsupervised.',\n",
              " 'Unsupervised learning helps in extracting features and clustering similar features together that further leads to early detection of diseases.',\n",
              " 'Clustering and principal component analysis enable grouping or clustering of similar traits together that are further used to maximize or minimize the similarity between the patients within or between the clusters.',\n",
              " 'Since patient traits are recorded in multiple dimensions, such as genes, principal component analysis(PCA) creates the apparatus to reduce these dimensions which humans could have not done alone.Supervised learning considers the outcomes of the subjects together with the traits, and further correlates the inputs with the outputs to predict the probability of getting a particular clinical event, expected value of a disease level or expected survival time, or risk of Down’s syndrome.Biomarker panels that are mostly used to detect ovarian cancer, have outperformed the conventional statistical methods due to machine learning.',\n",
              " 'In addition to this, the use of EHRs and Bayesian networks, which are a part of supervised machine learning algorithms, can predict clinical outcomes and mortality respectively.Unstructured data such as clinical notes and texts are converted into machine-readable structured data with the help of natural language processing(NLP).',\n",
              " 'NLP works with two components: text processing and classification.',\n",
              " 'Text processing helps in identifying a series of disease-relevant keywords in clinical notes and then through classification are further categorized into normal and abnormal cases.',\n",
              " 'Chest screening through ML and NLP has helped find abnormalities in the lungs and provide treatment to covid patients.',\n",
              " 'Healthcare organizations use NLP-based chatbots to increase interactions with patients, keeping their mental health and wellness in check.Deep learning is a modern extension of the classical neural network techniques which helps explore more complex non-linear patterns in data, using algorithms like convolution neural network, recurrent neural network, deep belief network, and deep neural network which enables more accurate clinical prediction.',\n",
              " 'When it comes to genome interpretation, deep neural networks surpass the conventional methods of logistics regression and support vector machines.Sepsis Watch is an AI system trained in deep learning algorithms that holds the capability to analyze over  million data points to create a patient’s risk score and identify the early stages of sepsis.Another method known as the Learning-based Optimization of the Under Sampling Pattern( LOUPE) is based on integrating full resolution MRI scans with the convolutional neural network algorithm, which helps in creating more accurate reconstructions.Robotic surgery is widely considered in most delicate surgeries like gynaecology and prostate surgery.',\n",
              " 'Even after striking the right balance between human decisions and AI precision, robotic surgery reduces surgeon efficiency as they have to be manually operated through a console.',\n",
              " 'Thus, autonomous robotic surgery is on the rise with inventions such as robotic silicon fingers that mimic the sense of touch that surgeons need to identify organs, cut tissues, etc., or robotic catheters that can navigate whether it is touching blood, tissue, or valve.Researchers at Children’s National Hospital, Washington have already developed an AI called Smart Tissue Autonomous Robot (STAR), which performs a colon anastomosis on its own with the help of an ML-powered suturing tool, that automatically detects the patient’s breathing pattern to apply suture at the correct point.An image of STAR during surgery.Cloud computing in healthcare has helped in retrieving and sharing medical records safely with a reduction in maintenance costs.',\n",
              " 'Through this technology doctors and various healthcare workers have access to detailed patient data that helps in speeding up analysis ultimately leading to better care in the form of more accurate information, medications, and therapies.How can It help in Biomedical research?Since AI can analyze literature beyond readability, it can be used to concise biomedical research.',\n",
              " 'With the help of ML algorithms and NLP, AI can accelerate screening and indexing of biomedical research, by ranking the literature of interest which allows researchers to formulate and test scientific hypotheses far more precisely and quickly.',\n",
              " 'Taking it to the next level, AI systems like the computational modelling assistant (CMA) helps researchers to construct simulation models from the concepts they have in mind.',\n",
              " 'Such innovations have majorly contributed to topics such as tumour suppressor mechanisms and protein-protein interaction information extraction.AI as precision medicineSince precision medicine focuses on healthcare interventions to individuals or groups of patients based on their profile, the various AI devices pave the way to practice it more efficiently.',\n",
              " 'With the help of ML, complex algorithms like large datasets can be used to predict and create an optimal treatment strategy.Deep learning and neural networks can be used to process data in healthcare apps and keep a close watch on the patient’s emotional state, food intake, or health monitoring.“Omics” refers to the collective technologies that help in exploring the roles, relationships of various branches ending with the suffix “omics” such as genomics, proteomics, etc.',\n",
              " 'Omics-based tests based on machine learning algorithms help find correlations and predict treatment responses, ultimately creating personalized treatments for individual patients.How it helps in psychology and neuro patientsFor psychologists studying creativity,\\xa0 AI is promising new classes of experiments that are developing data structures and programs and exploring novel theories on a new horizon.',\n",
              " 'Studies show that \\xa0AI can conduct therapy sessions,e-therapysessions, and assessments autonomously, also assisting human practitioners before, during, or after sessions.',\n",
              " 'The Detection and Computational Analysis of Psychological Signal project uses ML, computer vision, and NLP to analyze language, physical gestures, and social signals to identify cues for human distress.',\n",
              " 'This ground-breaking technology assesses soldiers returning from combat and recognizes those who require further mental health support.',\n",
              " 'In the future, it will combine data captured during face-to-face interviews with information on sleeping, eating, and online behaviours for a complete patient view.Stroke identificationStroke is another frequently occurring disease that affects more than  million people worldwide.',\n",
              " 'Thrombus,\\xa0 in the vessel cerebral infarction is the major (about %) cause of stroke occurrence.',\n",
              " 'In recent years, AI techniques have been used in numerous stroke-related studies as early detection and timely treatment along with efficient outcome prediction can help solve the problem.',\n",
              " 'With AI at our disposal, large amounts of data with rich information, more complications and real-life clinical questions can be addressed in this arena.',\n",
              " 'Currently, two ML algorithms- genetic fuzzy finite state machine and PCA were implemented to build a model building solution.',\n",
              " 'These include a human activity recognition stage and a stroke onset detection stage.',\n",
              " 'An alert stroke message is activated as soon as a movement significantly different from the normal pattern is recorded.',\n",
              " 'ML methods have been applied to neuroimaging data to assist disease evaluation and predicting stroke treatment for the diagnosis.Patient MonitoringToday, the market for AI-based patient monitoring is impressive and monetarily enticing.',\n",
              " 'It is evolving with artificial sensors, smart technologies and explores everything from brain-computer interfaces to nanorobotics.',\n",
              " 'Companies with their smart-watches have engaged people to perform remote monitoring even when they are not “patients”.',\n",
              " 'An obvious place to start is with wearable and embedded sensors, glucose monitors, pulse monitors, oximeters, and ECG monitors.',\n",
              " 'With patient monitoring becoming crucial, AI finds numerous applications in chronic conditions, intensive care units, operating rooms, emergency rooms, and cardiac wards where timeless clinical decision-making can be measured in seconds.',\n",
              " 'More advances have started to gain traction like smart prosthetics and implants.',\n",
              " 'These play an impeccable role in patient management post-surgery or rehabilitation.',\n",
              " 'Demographics, laboratory results and vital signs can also be used to predict cardiac arrest, transfer into the intensive care unit, or even death.',\n",
              " 'In addition, an interpretable machine-learning model can assist anesthesiologists in predicting hypoxaemia events during surgery.',\n",
              " 'This suggests that with deep-learning algorithms, raw patient-monitoring data could be better used to avoid information overload and alert overload while enabling more accurate clinical prediction and timely decision-making.ConclusionConsidering the vast range of tasks that an AI can do, it is evident that it holds deep potential in improving patient outcomes to skyrocketing levels.',\n",
              " 'Using sophisticated algorithms AI can bring a revolution in the healthcare sector.',\n",
              " 'Even after facing challenges like whether the technology will be able to deliver the promises, ethical measures, training physicians to use it, standard regulations etc, the role of AI in transforming the clinical practices cannot be ignored.',\n",
              " 'The biggest challenge is the integration of AI in daily practice.',\n",
              " 'All of these can be overcome and within that period the technologies will mature making the system far more enhanced and effective.Blackcoffer Insights : Sanskriti Sunderum and Aayushi Nauhwar, SRCC, Delhi UniversityTagsAIalgorithmCovidHealthcareMlpandemicpatient outcomesShareFacebookTwitterPinterestWhatsAppPrevious articleWhat if the Creation is Taking Over the Creator?Next articleFuture of AI and Machine Roles in the Medical SectorAjay BidyarthyRELATED ARTICLESWhat We ThinkRise of telemedicine and its Impact on Livelihood by January , What We ThinkRise of e-health and its impact on humans by the year January , What We ThinkRise of e-health and its impact on humans by the year January , Most PopularAutoGPT SetupMay , Rise of telemedicine and its Impact on Livelihood by January , Rise of e-health and its impact on humans by the year January , Rise of e-health and its impact on humans by the year January , Load moreRecent CommentsChatbot and conversation agent Transform the experience and engagement - AI+ NEWSonChatbot and conversation agent Transform the experience and engagementChatbot and conversation agent Transform the experience and engagement - Blackcoffer InsightsonMarketing Analytics Solution, a Big Data ApproachLATEST ARTICLEAutoGPT SetupMay , Rise of telemedicine and its Impact on Livelihood by January , Rise of e-health and its impact on humans by the year January , POPULAR INSIGHTSAutoGPT SetupMay , Rise of telemedicine and its Impact on Livelihood by January , Rise of e-health and its impact on humans by the year January , POPULAR INSIGHTS CATEGORYWhat We ThinkOur Success StoriesBlackcofferHealthcareArtificial IntelligenceITBig DataLifestyle, eCommerce & Online Market PlaceABOUT USWe provide intelligence, accelerate innovation and implement technology with extraordinary breadth and depth global insights into the big data,data-driven dashboards, applications development, and information management for organizations through combining unique, specialist services and high-lvel human expertise.Contact us:hello@blackcoffer.comFOLLOW USFacebookLinkedinTwitterYoutube© All Right Reserved, Blackcoffer(OPC) Pvt.',\n",
              " 'LtdOur Success StoriesWhat We DoWhat We ThinkHow ToSchedule DemoContact']"
            ]
          },
          "metadata": {},
          "execution_count": 80
        }
      ]
    },
    {
      "cell_type": "markdown",
      "source": [
        "As TextBlob is a Lexicon-based sentiment analyzer It has some predefined rules or we can say word and weight dictionary, where it has some scores that help to calculate a sentence's polarity."
      ],
      "metadata": {
        "id": "QG5g4_xKNIK6"
      }
    },
    {
      "cell_type": "code",
      "source": [
        "from textblob import TextBlob"
      ],
      "metadata": {
        "id": "XTT6DPZlD3CI"
      },
      "execution_count": null,
      "outputs": []
    },
    {
      "cell_type": "code",
      "source": [
        "def analyze_sentiment(tweet):\n",
        "  analysis = TextBlob(tweet)\n",
        "  if analysis.sentiment.polarity>0:#Polarity refers to the overall sentiment conveyed by a particular text, phrase or word. This polarity can be expressed as a numerical rating\n",
        "    return 'Positive'\n",
        "  elif analysis.sentiment.polarity==0:#polarity is typically represented as a numerical value that indicates the degree of positive, negative, or neutral sentiment expressed in a text.\n",
        "    return 'Neutral'\n",
        "  else:\n",
        "    return 'Negative'"
      ],
      "metadata": {
        "id": "vWq_U4qxD3IV"
      },
      "execution_count": null,
      "outputs": []
    },
    {
      "cell_type": "code",
      "source": [
        "sentence=pd.DataFrame(sentence)"
      ],
      "metadata": {
        "id": "UJbGLAdlFiO1"
      },
      "execution_count": null,
      "outputs": []
    },
    {
      "cell_type": "code",
      "source": [
        "sentence"
      ],
      "metadata": {
        "colab": {
          "base_uri": "https://localhost:8080/",
          "height": 1000
        },
        "id": "wagHNA7WinB2",
        "outputId": "1c630942-0ffe-4fd6-b3e4-6295d8631977"
      },
      "execution_count": null,
      "outputs": [
        {
          "output_type": "execute_result",
          "data": {
            "text/plain": [
              "                                                    0\n",
              "0   AI in healthcare to Improve Patient Outcomes |...\n",
              "1   Log into your accountyour usernameyour passwor...\n",
              "2   Get helpPassword recoveryRecover your password...\n",
              "3   Not missiles but microbes.” Bill Gates’s remar...\n",
              "4   When the new, unprecedented, invisible virus h...\n",
              "5   This public health emergency demonstrated our ...\n",
              "6   For the past few years, artificial intelligenc...\n",
              "7   It was quick to realise AI’s ability to analys...\n",
              "8   Being a conversational AI, since , Watson has ...\n",
              "9   Machine Learning (ML) techniques focus mainly ...\n",
              "10  Since patient traits mainly include masses of ...\n",
              "11  Unsupervised learning helps in extracting feat...\n",
              "12  Clustering and principal component analysis en...\n",
              "13  Since patient traits are recorded in multiple ...\n",
              "14  In addition to this, the use of EHRs and Bayes...\n",
              "15  NLP works with two components: text processing...\n",
              "16  Text processing helps in identifying a series ...\n",
              "17  Chest screening through ML and NLP has helped ...\n",
              "18  Healthcare organizations use NLP-based chatbot...\n",
              "19  When it comes to genome interpretation, deep n...\n",
              "20  Even after striking the right balance between ...\n",
              "21  Thus, autonomous robotic surgery is on the ris...\n",
              "22  Through this technology doctors and various he...\n",
              "23  With the help of ML algorithms and NLP, AI can...\n",
              "24  Taking it to the next level, AI systems like t...\n",
              "25  Such innovations have majorly contributed to t...\n",
              "26  With the help of ML, complex algorithms like l...\n",
              "27  Omics-based tests based on machine learning al...\n",
              "28  Studies show that  AI can conduct therapy sess...\n",
              "29  The Detection and Computational Analysis of Ps...\n",
              "30  This ground-breaking technology assesses soldi...\n",
              "31  In the future, it will combine data captured d...\n",
              "32  Thrombus,  in the vessel cerebral infarction i...\n",
              "33  In recent years, AI techniques have been used ...\n",
              "34  With AI at our disposal, large amounts of data...\n",
              "35  Currently, two ML algorithms- genetic fuzzy fi...\n",
              "36  These include a human activity recognition sta...\n",
              "37  An alert stroke message is activated as soon a...\n",
              "38  ML methods have been applied to neuroimaging d...\n",
              "39  It is evolving with artificial sensors, smart ...\n",
              "40  Companies with their smart-watches have engage...\n",
              "41  An obvious place to start is with wearable and...\n",
              "42  With patient monitoring becoming crucial, AI f...\n",
              "43  More advances have started to gain traction li...\n",
              "44  These play an impeccable role in patient manag...\n",
              "45  Demographics, laboratory results and vital sig...\n",
              "46  In addition, an interpretable machine-learning...\n",
              "47  This suggests that with deep-learning algorith...\n",
              "48  Using sophisticated algorithms AI can bring a ...\n",
              "49  Even after facing challenges like whether the ...\n",
              "50  The biggest challenge is the integration of AI...\n",
              "51  All of these can be overcome and within that p...\n",
              "52  LtdOur Success StoriesWhat We DoWhat We ThinkH..."
            ],
            "text/html": [
              "\n",
              "  <div id=\"df-20aa09c0-bfcf-469e-8188-36fdf79a0057\">\n",
              "    <div class=\"colab-df-container\">\n",
              "      <div>\n",
              "<style scoped>\n",
              "    .dataframe tbody tr th:only-of-type {\n",
              "        vertical-align: middle;\n",
              "    }\n",
              "\n",
              "    .dataframe tbody tr th {\n",
              "        vertical-align: top;\n",
              "    }\n",
              "\n",
              "    .dataframe thead th {\n",
              "        text-align: right;\n",
              "    }\n",
              "</style>\n",
              "<table border=\"1\" class=\"dataframe\">\n",
              "  <thead>\n",
              "    <tr style=\"text-align: right;\">\n",
              "      <th></th>\n",
              "      <th>0</th>\n",
              "    </tr>\n",
              "  </thead>\n",
              "  <tbody>\n",
              "    <tr>\n",
              "      <th>0</th>\n",
              "      <td>AI in healthcare to Improve Patient Outcomes |...</td>\n",
              "    </tr>\n",
              "    <tr>\n",
              "      <th>1</th>\n",
              "      <td>Log into your accountyour usernameyour passwor...</td>\n",
              "    </tr>\n",
              "    <tr>\n",
              "      <th>2</th>\n",
              "      <td>Get helpPassword recoveryRecover your password...</td>\n",
              "    </tr>\n",
              "    <tr>\n",
              "      <th>3</th>\n",
              "      <td>Not missiles but microbes.” Bill Gates’s remar...</td>\n",
              "    </tr>\n",
              "    <tr>\n",
              "      <th>4</th>\n",
              "      <td>When the new, unprecedented, invisible virus h...</td>\n",
              "    </tr>\n",
              "    <tr>\n",
              "      <th>5</th>\n",
              "      <td>This public health emergency demonstrated our ...</td>\n",
              "    </tr>\n",
              "    <tr>\n",
              "      <th>6</th>\n",
              "      <td>For the past few years, artificial intelligenc...</td>\n",
              "    </tr>\n",
              "    <tr>\n",
              "      <th>7</th>\n",
              "      <td>It was quick to realise AI’s ability to analys...</td>\n",
              "    </tr>\n",
              "    <tr>\n",
              "      <th>8</th>\n",
              "      <td>Being a conversational AI, since , Watson has ...</td>\n",
              "    </tr>\n",
              "    <tr>\n",
              "      <th>9</th>\n",
              "      <td>Machine Learning (ML) techniques focus mainly ...</td>\n",
              "    </tr>\n",
              "    <tr>\n",
              "      <th>10</th>\n",
              "      <td>Since patient traits mainly include masses of ...</td>\n",
              "    </tr>\n",
              "    <tr>\n",
              "      <th>11</th>\n",
              "      <td>Unsupervised learning helps in extracting feat...</td>\n",
              "    </tr>\n",
              "    <tr>\n",
              "      <th>12</th>\n",
              "      <td>Clustering and principal component analysis en...</td>\n",
              "    </tr>\n",
              "    <tr>\n",
              "      <th>13</th>\n",
              "      <td>Since patient traits are recorded in multiple ...</td>\n",
              "    </tr>\n",
              "    <tr>\n",
              "      <th>14</th>\n",
              "      <td>In addition to this, the use of EHRs and Bayes...</td>\n",
              "    </tr>\n",
              "    <tr>\n",
              "      <th>15</th>\n",
              "      <td>NLP works with two components: text processing...</td>\n",
              "    </tr>\n",
              "    <tr>\n",
              "      <th>16</th>\n",
              "      <td>Text processing helps in identifying a series ...</td>\n",
              "    </tr>\n",
              "    <tr>\n",
              "      <th>17</th>\n",
              "      <td>Chest screening through ML and NLP has helped ...</td>\n",
              "    </tr>\n",
              "    <tr>\n",
              "      <th>18</th>\n",
              "      <td>Healthcare organizations use NLP-based chatbot...</td>\n",
              "    </tr>\n",
              "    <tr>\n",
              "      <th>19</th>\n",
              "      <td>When it comes to genome interpretation, deep n...</td>\n",
              "    </tr>\n",
              "    <tr>\n",
              "      <th>20</th>\n",
              "      <td>Even after striking the right balance between ...</td>\n",
              "    </tr>\n",
              "    <tr>\n",
              "      <th>21</th>\n",
              "      <td>Thus, autonomous robotic surgery is on the ris...</td>\n",
              "    </tr>\n",
              "    <tr>\n",
              "      <th>22</th>\n",
              "      <td>Through this technology doctors and various he...</td>\n",
              "    </tr>\n",
              "    <tr>\n",
              "      <th>23</th>\n",
              "      <td>With the help of ML algorithms and NLP, AI can...</td>\n",
              "    </tr>\n",
              "    <tr>\n",
              "      <th>24</th>\n",
              "      <td>Taking it to the next level, AI systems like t...</td>\n",
              "    </tr>\n",
              "    <tr>\n",
              "      <th>25</th>\n",
              "      <td>Such innovations have majorly contributed to t...</td>\n",
              "    </tr>\n",
              "    <tr>\n",
              "      <th>26</th>\n",
              "      <td>With the help of ML, complex algorithms like l...</td>\n",
              "    </tr>\n",
              "    <tr>\n",
              "      <th>27</th>\n",
              "      <td>Omics-based tests based on machine learning al...</td>\n",
              "    </tr>\n",
              "    <tr>\n",
              "      <th>28</th>\n",
              "      <td>Studies show that  AI can conduct therapy sess...</td>\n",
              "    </tr>\n",
              "    <tr>\n",
              "      <th>29</th>\n",
              "      <td>The Detection and Computational Analysis of Ps...</td>\n",
              "    </tr>\n",
              "    <tr>\n",
              "      <th>30</th>\n",
              "      <td>This ground-breaking technology assesses soldi...</td>\n",
              "    </tr>\n",
              "    <tr>\n",
              "      <th>31</th>\n",
              "      <td>In the future, it will combine data captured d...</td>\n",
              "    </tr>\n",
              "    <tr>\n",
              "      <th>32</th>\n",
              "      <td>Thrombus,  in the vessel cerebral infarction i...</td>\n",
              "    </tr>\n",
              "    <tr>\n",
              "      <th>33</th>\n",
              "      <td>In recent years, AI techniques have been used ...</td>\n",
              "    </tr>\n",
              "    <tr>\n",
              "      <th>34</th>\n",
              "      <td>With AI at our disposal, large amounts of data...</td>\n",
              "    </tr>\n",
              "    <tr>\n",
              "      <th>35</th>\n",
              "      <td>Currently, two ML algorithms- genetic fuzzy fi...</td>\n",
              "    </tr>\n",
              "    <tr>\n",
              "      <th>36</th>\n",
              "      <td>These include a human activity recognition sta...</td>\n",
              "    </tr>\n",
              "    <tr>\n",
              "      <th>37</th>\n",
              "      <td>An alert stroke message is activated as soon a...</td>\n",
              "    </tr>\n",
              "    <tr>\n",
              "      <th>38</th>\n",
              "      <td>ML methods have been applied to neuroimaging d...</td>\n",
              "    </tr>\n",
              "    <tr>\n",
              "      <th>39</th>\n",
              "      <td>It is evolving with artificial sensors, smart ...</td>\n",
              "    </tr>\n",
              "    <tr>\n",
              "      <th>40</th>\n",
              "      <td>Companies with their smart-watches have engage...</td>\n",
              "    </tr>\n",
              "    <tr>\n",
              "      <th>41</th>\n",
              "      <td>An obvious place to start is with wearable and...</td>\n",
              "    </tr>\n",
              "    <tr>\n",
              "      <th>42</th>\n",
              "      <td>With patient monitoring becoming crucial, AI f...</td>\n",
              "    </tr>\n",
              "    <tr>\n",
              "      <th>43</th>\n",
              "      <td>More advances have started to gain traction li...</td>\n",
              "    </tr>\n",
              "    <tr>\n",
              "      <th>44</th>\n",
              "      <td>These play an impeccable role in patient manag...</td>\n",
              "    </tr>\n",
              "    <tr>\n",
              "      <th>45</th>\n",
              "      <td>Demographics, laboratory results and vital sig...</td>\n",
              "    </tr>\n",
              "    <tr>\n",
              "      <th>46</th>\n",
              "      <td>In addition, an interpretable machine-learning...</td>\n",
              "    </tr>\n",
              "    <tr>\n",
              "      <th>47</th>\n",
              "      <td>This suggests that with deep-learning algorith...</td>\n",
              "    </tr>\n",
              "    <tr>\n",
              "      <th>48</th>\n",
              "      <td>Using sophisticated algorithms AI can bring a ...</td>\n",
              "    </tr>\n",
              "    <tr>\n",
              "      <th>49</th>\n",
              "      <td>Even after facing challenges like whether the ...</td>\n",
              "    </tr>\n",
              "    <tr>\n",
              "      <th>50</th>\n",
              "      <td>The biggest challenge is the integration of AI...</td>\n",
              "    </tr>\n",
              "    <tr>\n",
              "      <th>51</th>\n",
              "      <td>All of these can be overcome and within that p...</td>\n",
              "    </tr>\n",
              "    <tr>\n",
              "      <th>52</th>\n",
              "      <td>LtdOur Success StoriesWhat We DoWhat We ThinkH...</td>\n",
              "    </tr>\n",
              "  </tbody>\n",
              "</table>\n",
              "</div>\n",
              "      <button class=\"colab-df-convert\" onclick=\"convertToInteractive('df-20aa09c0-bfcf-469e-8188-36fdf79a0057')\"\n",
              "              title=\"Convert this dataframe to an interactive table.\"\n",
              "              style=\"display:none;\">\n",
              "        \n",
              "  <svg xmlns=\"http://www.w3.org/2000/svg\" height=\"24px\"viewBox=\"0 0 24 24\"\n",
              "       width=\"24px\">\n",
              "    <path d=\"M0 0h24v24H0V0z\" fill=\"none\"/>\n",
              "    <path d=\"M18.56 5.44l.94 2.06.94-2.06 2.06-.94-2.06-.94-.94-2.06-.94 2.06-2.06.94zm-11 1L8.5 8.5l.94-2.06 2.06-.94-2.06-.94L8.5 2.5l-.94 2.06-2.06.94zm10 10l.94 2.06.94-2.06 2.06-.94-2.06-.94-.94-2.06-.94 2.06-2.06.94z\"/><path d=\"M17.41 7.96l-1.37-1.37c-.4-.4-.92-.59-1.43-.59-.52 0-1.04.2-1.43.59L10.3 9.45l-7.72 7.72c-.78.78-.78 2.05 0 2.83L4 21.41c.39.39.9.59 1.41.59.51 0 1.02-.2 1.41-.59l7.78-7.78 2.81-2.81c.8-.78.8-2.07 0-2.86zM5.41 20L4 18.59l7.72-7.72 1.47 1.35L5.41 20z\"/>\n",
              "  </svg>\n",
              "      </button>\n",
              "      \n",
              "  <style>\n",
              "    .colab-df-container {\n",
              "      display:flex;\n",
              "      flex-wrap:wrap;\n",
              "      gap: 12px;\n",
              "    }\n",
              "\n",
              "    .colab-df-convert {\n",
              "      background-color: #E8F0FE;\n",
              "      border: none;\n",
              "      border-radius: 50%;\n",
              "      cursor: pointer;\n",
              "      display: none;\n",
              "      fill: #1967D2;\n",
              "      height: 32px;\n",
              "      padding: 0 0 0 0;\n",
              "      width: 32px;\n",
              "    }\n",
              "\n",
              "    .colab-df-convert:hover {\n",
              "      background-color: #E2EBFA;\n",
              "      box-shadow: 0px 1px 2px rgba(60, 64, 67, 0.3), 0px 1px 3px 1px rgba(60, 64, 67, 0.15);\n",
              "      fill: #174EA6;\n",
              "    }\n",
              "\n",
              "    [theme=dark] .colab-df-convert {\n",
              "      background-color: #3B4455;\n",
              "      fill: #D2E3FC;\n",
              "    }\n",
              "\n",
              "    [theme=dark] .colab-df-convert:hover {\n",
              "      background-color: #434B5C;\n",
              "      box-shadow: 0px 1px 3px 1px rgba(0, 0, 0, 0.15);\n",
              "      filter: drop-shadow(0px 1px 2px rgba(0, 0, 0, 0.3));\n",
              "      fill: #FFFFFF;\n",
              "    }\n",
              "  </style>\n",
              "\n",
              "      <script>\n",
              "        const buttonEl =\n",
              "          document.querySelector('#df-20aa09c0-bfcf-469e-8188-36fdf79a0057 button.colab-df-convert');\n",
              "        buttonEl.style.display =\n",
              "          google.colab.kernel.accessAllowed ? 'block' : 'none';\n",
              "\n",
              "        async function convertToInteractive(key) {\n",
              "          const element = document.querySelector('#df-20aa09c0-bfcf-469e-8188-36fdf79a0057');\n",
              "          const dataTable =\n",
              "            await google.colab.kernel.invokeFunction('convertToInteractive',\n",
              "                                                     [key], {});\n",
              "          if (!dataTable) return;\n",
              "\n",
              "          const docLinkHtml = 'Like what you see? Visit the ' +\n",
              "            '<a target=\"_blank\" href=https://colab.research.google.com/notebooks/data_table.ipynb>data table notebook</a>'\n",
              "            + ' to learn more about interactive tables.';\n",
              "          element.innerHTML = '';\n",
              "          dataTable['output_type'] = 'display_data';\n",
              "          await google.colab.output.renderOutput(dataTable, element);\n",
              "          const docLink = document.createElement('div');\n",
              "          docLink.innerHTML = docLinkHtml;\n",
              "          element.appendChild(docLink);\n",
              "        }\n",
              "      </script>\n",
              "    </div>\n",
              "  </div>\n",
              "  "
            ]
          },
          "metadata": {},
          "execution_count": 84
        }
      ]
    },
    {
      "cell_type": "code",
      "source": [
        "sentence.columns=['sentence']"
      ],
      "metadata": {
        "id": "2DZWow9KD3Jj"
      },
      "execution_count": null,
      "outputs": []
    },
    {
      "cell_type": "code",
      "source": [
        "sentence['sentiment']=[str(analyze_sentiment(x)) for x in sentence.sentence]"
      ],
      "metadata": {
        "id": "8-ff28qDFvel"
      },
      "execution_count": null,
      "outputs": []
    },
    {
      "cell_type": "code",
      "source": [
        "sentence.sentiment.value_counts()#The value_counts() function returns a Series that contain counts of unique values."
      ],
      "metadata": {
        "colab": {
          "base_uri": "https://localhost:8080/"
        },
        "id": "faGiT3S7GYA1",
        "outputId": "295e855e-4c47-43ed-e0eb-7d32d94cfd08"
      },
      "execution_count": null,
      "outputs": [
        {
          "output_type": "execute_result",
          "data": {
            "text/plain": [
              "Positive    36\n",
              "Neutral     11\n",
              "Negative     6\n",
              "Name: sentiment, dtype: int64"
            ]
          },
          "metadata": {},
          "execution_count": 55
        }
      ]
    },
    {
      "cell_type": "code",
      "source": [
        "from nltk.tokenize import word_tokenize #word_tokenize is a function in Python that splits a given sentence into words using the NLTK library.\n",
        "# the process of splitting a phrase, sentence, paragraph, one or multiple text documents into smaller units"
      ],
      "metadata": {
        "id": "mntrj70UGrHF"
      },
      "execution_count": null,
      "outputs": []
    },
    {
      "cell_type": "code",
      "source": [
        "indiawords=word_tokenize(c)"
      ],
      "metadata": {
        "id": "kEDjVVKLHFOp"
      },
      "execution_count": null,
      "outputs": []
    },
    {
      "cell_type": "code",
      "source": [
        "indiawords = [word for word in indiawords if word.isalnum()]#Python string isalnum() function returns True if it's made of\n",
        "#alphanumeric characters only. A character is alphanumeric if\n",
        "#it's either an alpha or a number. If the string is empty, then isalnum() returns False"
      ],
      "metadata": {
        "id": "vn801jsAGyr5"
      },
      "execution_count": null,
      "outputs": []
    },
    {
      "cell_type": "code",
      "source": [
        "from nltk.corpus import stopwords #The stopwords in nltk are the most common words in data.\n",
        "#They are words that you do not want to use to describe the topic of your content.\n",
        "#Corpus. A corpus is a large and structured set of machine-readable texts that have been produced\n",
        "#in a natural communicative setting. Its plural is corpora. They can be derived in different ways like text that was originally\n",
        "# electronic, transcripts of spoken language and optical character recognition, etc."
      ],
      "metadata": {
        "id": "_0wGYnxgHNaF"
      },
      "execution_count": null,
      "outputs": []
    },
    {
      "cell_type": "code",
      "source": [
        "stop_words=set(stopwords.words('english'))# words to be removed"
      ],
      "metadata": {
        "id": "jzHcv9H8HSs4"
      },
      "execution_count": null,
      "outputs": []
    },
    {
      "cell_type": "code",
      "source": [
        "stop_words"
      ],
      "metadata": {
        "id": "Su8JkKKAI-GC"
      },
      "execution_count": null,
      "outputs": []
    },
    {
      "cell_type": "code",
      "source": [
        "indiawords=[word for word in indiawords if not str.lower(word) in stop_words]"
      ],
      "metadata": {
        "id": "aBd17q6KbADG"
      },
      "execution_count": null,
      "outputs": []
    },
    {
      "cell_type": "code",
      "source": [
        "indiawords"
      ],
      "metadata": {
        "id": "0mU5W1CfJhew"
      },
      "execution_count": null,
      "outputs": []
    },
    {
      "cell_type": "code",
      "source": [
        " from nltk.probability import FreqDist"
      ],
      "metadata": {
        "id": "LW33niikbbiT"
      },
      "execution_count": null,
      "outputs": []
    },
    {
      "cell_type": "code",
      "source": [
        "wordfreq=FreqDist(indiawords)"
      ],
      "metadata": {
        "id": "EswmE_z2bi0S"
      },
      "execution_count": null,
      "outputs": []
    },
    {
      "cell_type": "code",
      "source": [
        "plt.figure(figsize=(20,15))\n",
        "wordfreq.plot(50,cumulative=False)"
      ],
      "metadata": {
        "id": "vtnEYIYAbsx7"
      },
      "execution_count": null,
      "outputs": []
    },
    {
      "cell_type": "code",
      "source": [
        "indiawords=[w for w in indiawords if not w in ['health']]"
      ],
      "metadata": {
        "id": "2PqqyHK9cBq-"
      },
      "execution_count": null,
      "outputs": []
    },
    {
      "cell_type": "code",
      "source": [
        "from wordcloud.wordcloud import WordCloud"
      ],
      "metadata": {
        "id": "GG_HxZM4c6v7"
      },
      "execution_count": null,
      "outputs": []
    },
    {
      "cell_type": "code",
      "source": [
        "india_words=(\" \").join(indiawords)"
      ],
      "metadata": {
        "id": "gvKyUu2yeAd9"
      },
      "execution_count": null,
      "outputs": []
    },
    {
      "cell_type": "code",
      "source": [
        "wordcloud=WordCloud(width=1000,height=500).generate(india_words)\n",
        "plt.figure(figsize=(15,8))\n",
        "plt.imshow(wordcloud)\n",
        "plt.axis('off')\n",
        "plt.show()"
      ],
      "metadata": {
        "id": "2pEEjB6veM-L"
      },
      "execution_count": null,
      "outputs": []
    }
  ]
}