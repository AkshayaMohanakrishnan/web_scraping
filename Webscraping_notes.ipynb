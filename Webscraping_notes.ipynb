{
  "nbformat": 4,
  "nbformat_minor": 0,
  "metadata": {
    "colab": {
      "provenance": [],
      "authorship_tag": "ABX9TyNZ84f+5JCqLNxG3Lns4WH7",
      "include_colab_link": true
    },
    "kernelspec": {
      "name": "python3",
      "display_name": "Python 3"
    },
    "language_info": {
      "name": "python"
    }
  },
  "cells": [
    {
      "cell_type": "markdown",
      "metadata": {
        "id": "view-in-github",
        "colab_type": "text"
      },
      "source": [
        "<a href=\"https://colab.research.google.com/github/AkshayaMohanakrishnan/web_scraping/blob/main/Webscraping_notes.ipynb\" target=\"_parent\"><img src=\"https://colab.research.google.com/assets/colab-badge.svg\" alt=\"Open In Colab\"/></a>"
      ]
    },
    {
      "cell_type": "markdown",
      "source": [
        "request library"
      ],
      "metadata": {
        "id": "htacID3Wbfh1"
      }
    },
    {
      "cell_type": "code",
      "source": [
        "import requests\n",
        "url = \"https://www.amazon.in/mobile-phones/b/?ie=UTF8&node=1389401031&ref_=nav_cs_mobiles\"\n",
        "r = requests.get(url)\n",
        "print(r.status_code)"
      ],
      "metadata": {
        "colab": {
          "base_uri": "https://localhost:8080/"
        },
        "id": "CZSC0o_Mbi9O",
        "outputId": "36af224a-1903-46f4-fc5e-bb070875adff"
      },
      "execution_count": 1,
      "outputs": [
        {
          "output_type": "stream",
          "name": "stdout",
          "text": [
            "200\n"
          ]
        }
      ]
    },
    {
      "cell_type": "markdown",
      "source": [
        "Informational responses (100 – 199)\n",
        "Successful responses (200 – 299)\n",
        "Redirection messages (300 – 399)\n",
        "Client error responses (400 – 499)\n",
        "Server error responses (500 – 599)\n",
        "\n",
        "\n",
        "\n",
        "\n",
        "\n",
        "\n"
      ],
      "metadata": {
        "id": "SjOMRqOVb6eL"
      }
    },
    {
      "cell_type": "code",
      "source": [
        "import requests\n",
        "url = \"https://www.amazon.in/mobile-phones/b/?ie=UTF8&node=1389401031&ref_=nav_cs_mobiles\"\n",
        "r = requests.get(url)\n",
        "print(r.text)"
      ],
      "metadata": {
        "id": "d3vV0AYwcC8y"
      },
      "execution_count": null,
      "outputs": []
    },
    {
      "cell_type": "markdown",
      "source": [
        "**Obtain HTML using Beautifulsoup**"
      ],
      "metadata": {
        "id": "FvqlUhS5clv0"
      }
    },
    {
      "cell_type": "markdown",
      "source": [
        "with the help of beautiful soup we get a structured data in the format of a string and we can extract the data by using different tags"
      ],
      "metadata": {
        "id": "X8wwbiO5eHkw"
      }
    },
    {
      "cell_type": "code",
      "source": [
        "import requests\n",
        "from bs4 import BeautifulSoup\n",
        "url = \"https://www.amazon.in/mobile-phones/b/?ie=UTF8&node=1389401031&ref_=nav_\"\n",
        "soup = BeautifulSoup(r.text,\"lxml\") #here  we will be dealing with HTML files so we use lxml\n",
        "print(soup)"
      ],
      "metadata": {
        "id": "MLdYryFvcxH5"
      },
      "execution_count": null,
      "outputs": []
    },
    {
      "cell_type": "markdown",
      "source": [
        "**Tags in HTML**"
      ],
      "metadata": {
        "id": "9Oixuk6zfWd1"
      }
    },
    {
      "cell_type": "markdown",
      "source": [
        "Tags are the one which is highlighted in purple colour"
      ],
      "metadata": {
        "id": "jibZZ2FOhMDD"
      }
    },
    {
      "cell_type": "code",
      "source": [
        "import requests\n",
        "from bs4 import BeautifulSoup\n",
        "url =\"https://webscraper.io/test-sites/e-commerce/allinone\"\n",
        "soup = BeautifulSoup(r.text,'lxml')\n",
        "print(soup.div)\n"
      ],
      "metadata": {
        "id": "R2MFiwlrgF3N"
      },
      "execution_count": null,
      "outputs": []
    },
    {
      "cell_type": "markdown",
      "source": [
        "**Attributes in HTML**"
      ],
      "metadata": {
        "id": "qyXPX78VhEmL"
      }
    },
    {
      "cell_type": "code",
      "source": [],
      "metadata": {
        "id": "A-wpwiA_g5yg"
      },
      "execution_count": null,
      "outputs": []
    }
  ]
}